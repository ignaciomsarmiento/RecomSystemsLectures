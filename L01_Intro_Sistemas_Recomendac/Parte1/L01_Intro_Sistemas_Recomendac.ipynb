{
 "cells": [
  {
   "cell_type": "markdown",
   "metadata": {},
   "source": [
    "<div >\n",
    "<img src = \"../../banner.png\" />\n",
    "</div>"
   ]
  },
  {
   "cell_type": "markdown",
   "metadata": {},
   "source": [
    "# Sistemas de Recomendación"
   ]
  },
  {
   "cell_type": "markdown",
   "metadata": {},
   "source": [
    "[![Open In Colab](https://colab.research.google.com/assets/colab-badge.svg)](https://colab.research.google.com/github/ignaciomsarmiento/RecomSystemsLectures/blob/main/L01_Intro_Sistemas_Recomendac/Parte1/L01_Intro_Sistemas_Recomendac.ipynb)"
   ]
  },
  {
   "cell_type": "markdown",
   "metadata": {},
   "source": [
    "## ¿Qué son los sistemas de recomendaciones?\n",
    "\n",
    "\n",
    "Las preferencias de los individuos suelen seguir patrones que los sistemas de recomendación pueden aprovechar, por ejemplo, si hemos visto recientemente la película de Iron Man, y la disfrutamos, es muy probable que también disfrutemos la película de Thor. ¿Cómo pueden entonces los usuarios encontrar nuevo contenido atractivo? \n",
    "\n",
    "Una forma es que los usuarios busquen por si mismo el contenido. Otra forma, es utilizar sistemas de recomendaciones que sugieran elementos que los usuarios podrían no haber pensado en buscar por su cuenta. Por ejemplo, cuando compramos en línea es común ver sugerencias de otros productos bajo títulos como \"Comprados juntos habitualmente\" o \"Los clientes que compraron X también compraron Y\". \n",
    "\n",
    "Los sistemas de recomendación entonces encuentran patrones que son utilizados para predecir qué otros productos podrían gustarnos y generar sugerencias, de forma tal que  los usuarios encuentren contenido atractivo en un gran corpus. Estos sistemas son muy exitosos, por ejemplo según un estudio del 2013 de [McKinsey](https://www.mckinsey.com/industries/retail/our-insights/how-retailers-can-keep-up-with-consumers), el 35% de los artículos comprados en Amazon surgen de estos sistemas de recomendación, y por lo tanto vale la pena estudiarlos cuidadosamente."
   ]
  },
  {
   "cell_type": "markdown",
   "metadata": {},
   "source": [
    "### Estructura de los sistemas de recomendación\n",
    "\n",
    "Los sistemas de recomendación constan principalmente de 2 componentes:\n",
    "\n",
    "   - Generación de candidatos: En esta  etapa, el sistema parte de un corpus potencialmente enorme y genera un subconjunto mucho más pequeño de candidatos a recomendar. Por ejemplo, el generador de recomendaciones de YouTube reduce miles de millones de videos cargados en su plataforma a cientos o miles de potenciales candidatos. El modelo necesita entonces evaluar consultas rápidamente dado el enorme tamaño del corpus. (Si te interesa saber más cómo funciona Youtube, te invito a que leas el artículo de Covington et al. (2016))\n",
    "   - Ranking o Puntuación: En esta etapa se elige un modelo que clasifica a los candidatos para seleccionar el conjunto de candidatos que va a mostrar al usuario.\n",
    "   \n",
    "   \n",
    "El orden de estas etapas no sigue un orden establecido y pueden intercambiarse y hasta fusionarse. También es importante mencionar que algunos sistemas de recomendación incorporan una etapa de reclasificación donde se suman restricciones adicionales antes de mostrar los candidatos finales. Por ejemplo, se eliminan candidatos que al usuario no le gustaron explícitamente o se aumenta la puntuación de contenido más nuevo. La reclasificación también se suele utilizar para garantizar que los contenidos sugeridos sean diversos, nuevos y/o populares.\n"
   ]
  },
  {
   "cell_type": "markdown",
   "metadata": {},
   "source": [
    "## Tipos de sistemas de recomendación\n",
    "\n",
    "\n",
    "Existen distintos tipos de sistemas de recomendación, y tanto su utilización como su éxito dependen de la cantidad y calidad de datos que se dispongan. En esta sección, haremos una descripción general de los sistemas de recomendación  más populares en uso. Hay que tener en cuenta que esta lista no es exhaustiva y que nuevos métodos continuamente están apareciendo y otros caen en deshuso. A continuación y en *cuadernos* subsiguientes veremos detalles sobre los mismos y su implementación en `Python`."
   ]
  },
  {
   "cell_type": "markdown",
   "metadata": {},
   "source": [
    "### Recomendadores basados en conocimiento\n",
    "\n",
    "Los recomendadores basados en  conocimiento utilizan principalmente artículos que rara vez se usan o compran. Si los artículos son raramente comprados es muy difícil tener información previa a partir de la cuál de ellos se puede generar una recomendación. La venta de bienes raíces es un ejemplo de esto. La compra de una casa suele ser a menudo una compra de una vez en la vida, no se tiene por lo tanto información adicional para generar recomendaciones.\n",
    "\n",
    "En casos como este, el sistema de recomendación funciona similar a lo que haría un ser humano. Le pregunta al usuario sobre preferencias y detalles; y a partir de estos, genera recomendaciones. Volviendo al ejemplo anterior, el sistema podría preguntar sobre qué tipo de propiedad prefiere, qué barrios, cuál es su presupuesto, etc.; y a partir de estos ofrecer una recomendación."
   ]
  },
  {
   "cell_type": "markdown",
   "metadata": {},
   "source": [
    "### Filtrado colaborativo\n",
    "\n",
    "El filtrado colaborativo aprovecha el poder de la colaboración para generar recomendaciones. Los filtros colaborativos son uno de los sistemas de recomendación más populares utilizados en la industria y han tenido un gran éxito para empresas como Amazon. En términos generales, el filtrado colaborativo puede clasificarse en dos tipos: "
   ]
  },
  {
   "cell_type": "markdown",
   "metadata": {},
   "source": [
    "1. **Filtrado basado en ítems**: La idea de este tipo de filtrado es que si un grupo de personas ha calificado dos elementos de manera similar, entonces los dos elementos deben ser similares.\n",
    "\n",
    "\n",
    "<div  style=\"max-width: 60%;\">\n",
    "<img src = \"figs/Homero.png\"/>\n",
    "</div>\n",
    "\n",
    "Por lo tanto, si a una persona le gusta un artículo en particular, es probable que también esté interesada en el otro artículo. Como se puede ver en la figura siguiente esta es otra de las estrategias que utiliza Amazon: recomienda productos a partir del historial de navegación y las compras, y con esta información genera sugerencias:"
   ]
  },
  {
   "cell_type": "markdown",
   "metadata": {},
   "source": [
    "<div  style=\"max-width: 80%;\">\n",
    "<img src = \"figs/item_jeans.png\"/>\n",
    "</div>"
   ]
  },
  {
   "cell_type": "markdown",
   "metadata": {},
   "source": [
    "2. **Filtrado basado en usuarios**: La idea principal detrás del filtrado basado en el usuario es que si somos capaces de encontrar usuarios que compraron artículos similares y les gustaron en el pasado, es más probable que también compren artículos similares en el futuro.\n",
    "\n",
    "<div  style=\"max-width: 80%;\">\n",
    "<img src = \"figs/aguacate.png\"/>\n",
    "</div>\n",
    "\n",
    "Por lo tanto, estos modelos recomiendan artículos a un usuario que a otros usuarios similares también le han gustado. Amazon, por ejemplo, usa este tipo de método para generar recomendaciones. En la figura a continuación nos aparece la frase \"Los clientes que compraron este producto también compraron\" y a continuación aparecen las sugerencias:"
   ]
  },
  {
   "cell_type": "markdown",
   "metadata": {},
   "source": [
    "<div  style=\"max-width: 80%;\">\n",
    "<img src = \"figs/usuario_libros.png\"/>\n",
    "</div>"
   ]
  },
  {
   "cell_type": "markdown",
   "metadata": {},
   "source": [
    "\n",
    "Si bien este tipo de sistemas son muy poderosos, requieren que contemos con datos de actividad pasada. Ciertas empresas, como Amazon, pueden aprovechar ya que tienen acceso a información sobre compras de millones de usuarios. Esto a su vez puede ser una desventaja, imagine que iniciamos un nuevo sitio web para vender productos. Para poder generar un buen sistema de filtrado colaborativo necesitamos datos sobre compras y usuarios, los cuales no están disponibles al inicio y por lo tanto resulta muy difícil construir este tipo de sistemas en esta etapa de la vida de un negocio. Este problema suele conocerse como un problema de \"arranque frio\" o \"cold start\"."
   ]
  },
  {
   "cell_type": "markdown",
   "metadata": {},
   "source": [
    "### Filtrado basado en contenido\n",
    "\n",
    "\n",
    "A diferencia de los filtros colaborativos, los sistemas basados en contenido no requieren datos relacionados a otros individuos u actividades pasadas.  Por el contrario estos, brindan recomendaciones basadas en el perfil del usuario y los metadatos que se tiene sobre elementos particulares:"
   ]
  },
  {
   "cell_type": "markdown",
   "metadata": {},
   "source": [
    "\n",
    "<div  style=\"max-width: 40%;\">\n",
    "<img src = \"figs/Homero_movies.png\"/>\n",
    "</div>\n"
   ]
  },
  {
   "cell_type": "markdown",
   "metadata": {},
   "source": [
    "\n",
    "\n",
    "\n",
    "Netflix es un buen ejemplo de este tipo de sistemas como lo muestra la figura a continuación. Basado en nuestro perfil, cómo calificamos la película y metadatos de la película nos genera sugerencias.\n",
    "\n",
    "\n",
    "<div  style=\"max-width: 40%;\">\n",
    "<img src = \"figs/netflix.png\"/>\n",
    "</div>\n",
    "\n",
    "\n",
    "En este caso habrá menos diversidad en las recomendaciones, ya que por ejemplo si sólo usamos este tipo de sistemas puede ser que potencialmente nos gusten dramas británicos, pero nunca lo sabremos, a menos que decidamos probarlo de forma autónoma. "
   ]
  },
  {
   "cell_type": "markdown",
   "metadata": {},
   "source": [
    "### Recomendadores híbridos\n",
    "\n",
    "Surge así otro tipo de sistema, los recomendadores híbridos. Como sugiere el nombre, los recomendadores híbridos son sistemas que combinan varios tipos de modelos de recomendación, superando así las deficiencias de cada uno. \n",
    "Por ejemplo, en el caso de Netflix que vimos anteriormente, la primera vez que usamos la plataforma, entra en juego un sistema basado en contenido: que pregunta explícitamente por preferencias y usa metadatos del producto mismo. Esto nos permite superar el problema de los sistemas colaborativos. A medida que utilizamos la plataforma, comienza a operar el filtrado colaborativo, que permite refinar y mejorar sugerencias; sugeriendo productos que tal vez, en ausencia de la recomendación no lo hubiesemos elegido.\n"
   ]
  },
  {
   "cell_type": "markdown",
   "metadata": {},
   "source": [
    "# Referencias\n",
    "\n",
    "- Banik, R. (2018). Hands-on recommendation systems with Python: start building powerful and personalized, recommendation engines with Python. Packt Publishing Ltd.\n",
    "\n",
    "- Covington, P., Adams, J., & Sargin, E. (2016). Deep Neural Networks for YouTube recommendations. Proceedings of the 10th ACM Conference on Recommender Systems. https://doi.org/10.1145/2959100.2959190 \n",
    "\n",
    "- Google developers. (n.d.). Recommendation systems. Google. Consultado en Abril 3, 2022, de https://developers.google.com/machine-learning/recommendation/overview "
   ]
  }
 ],
 "metadata": {
  "interpreter": {
   "hash": "fe36d3cf18f454bb22b210d1ce52ae8c21a1b2f0a9257a143474ae90bef14b60"
  },
  "kernelspec": {
   "display_name": "Python 3 (ipykernel)",
   "language": "python",
   "name": "python3"
  },
  "language_info": {
   "codemirror_mode": {
    "name": "ipython",
    "version": 3
   },
   "file_extension": ".py",
   "mimetype": "text/x-python",
   "name": "python",
   "nbconvert_exporter": "python",
   "pygments_lexer": "ipython3",
   "version": "3.9.13"
  },
  "toc": {
   "base_numbering": 1,
   "nav_menu": {},
   "number_sections": true,
   "sideBar": true,
   "skip_h1_title": false,
   "title_cell": "Table of Contents",
   "title_sidebar": "Contents",
   "toc_cell": false,
   "toc_position": {},
   "toc_section_display": true,
   "toc_window_display": false
  }
 },
 "nbformat": 4,
 "nbformat_minor": 2
}
