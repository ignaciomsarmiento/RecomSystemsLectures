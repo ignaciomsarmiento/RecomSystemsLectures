{
 "cells": [
  {
   "cell_type": "markdown",
   "metadata": {},
   "source": [
    "<div >\n",
    "<img src = \"../banner.png\" />\n",
    "</div>"
   ]
  },
  {
   "cell_type": "markdown",
   "metadata": {},
   "source": [
    "# Sistemas de Recomendación"
   ]
  },
  {
   "cell_type": "markdown",
   "metadata": {},
   "source": [
    "[![Open In Colab](https://colab.research.google.com/assets/colab-badge.svg)](https://colab.research.google.com/github/ignaciomsarmiento/RecomSystemsLectures/blob/main/L01_Intro_Sistemas_Recomendac/L01_Intro_Sistemas_Recomendac.ipynb)"
   ]
  },
  {
   "cell_type": "markdown",
   "metadata": {},
   "source": [
    "## ¿Qué son los sistemas de recomendaciones?\n",
    "\n",
    "\n",
    "Las preferencias de los individuos suelen seguir patrones que los sistemas de recomendación pueden aprovechar, por ejemplo,\n",
    "\n",
    "- Si te interesó:  <div style=\"max-width:200px\">\n",
    "<img src = \"figs/iron_man.jpg\" />\n",
    "</div>\n",
    "\n",
    "\n",
    "- También te puede interesar: <div style=\"max-width:200px\">\n",
    "<img src = \"figs/thor.jpg\" />\n",
    "</div> \n",
    "\n",
    "\n",
    "\n",
    "\n",
    "- Los sistemas de recomendación entonces encuentran patrones que son utilizados para predecir qué otros productos podrían gustarnos y generar sugerencias, de forma tal que  los usuarios encuentren contenido atractivo en un gran corpus. \n",
    "\n"
   ]
  },
  {
   "cell_type": "markdown",
   "metadata": {},
   "source": [
    "## Tipos de sistemas de recomendación\n",
    "\n",
    "\n",
    "\n",
    "- Recomendadores basados en conocimiento\n",
    "\n",
    "- Filtrado colaborativo\n",
    "\n",
    "- Filtrado basado en contenido\n",
    "\n",
    "- Recomendadores híbridos"
   ]
  },
  {
   "cell_type": "markdown",
   "metadata": {},
   "source": [
    "### Estructura de los sistemas de recomendación\n",
    "\n",
    "Los sistemas de recomendación constan principalmente de 2 componentes:\n",
    "\n",
    "   - Generación de candidatos\n",
    "   \n",
    "   - Ranking o Puntuación\n",
    "   "
   ]
  },
  {
   "cell_type": "markdown",
   "metadata": {},
   "source": [
    "# Python\n",
    "\n",
    "<center>\n",
    "    <img width=\"50%\" src=\"https://www.python.org/static/community_logos/python-logo-generic.svg\">\n",
    "</center>\n",
    "\n",
    "\n",
    "`Python` es un lenguaje de programación de alto nivel, interpretado, orientado a objetos y de propósito general. Fue creado en la década de 1990 por Guido van Rossum y se ha convertido en uno de los lenguajes de programación más populares del mundo.\n",
    "\n",
    "`Python` es conocido por su sintaxis clara y legible, lo que lo hace muy fácil de aprender para los principiantes en programación. Además, es altamente modular y escalable, lo que lo convierte en una excelente opción para proyectos de cualquier tamaño y complejidad.\n",
    "\n",
    "`Python` es utilizado en una variedad de aplicaciones, desde la creación de páginas web hasta el análisis de datos y el aprendizaje automático. Es también utilizado en el desarrollo de juegos, aplicaciones móviles, sistemas embebidos y mucho más."
   ]
  },
  {
   "cell_type": "markdown",
   "metadata": {},
   "source": [
    "## Breve Repaso\n",
    "### Operaciones matematicas\n",
    "\n",
    "\n",
    "\n",
    "| Operators | Operation         | Example         |\n",
    "| --------- | ----------------- | --------------- |\n",
    "| \\*\\*      | Exponente          | `2 ** 3 = 8`    |\n",
    "| %         | Modulo | `22 % 8 = 6`    |\n",
    "| //        | Integer division  | `22 // 8 = 2`   |\n",
    "| /         | Division          | `22 / 8 = 2.75` |\n",
    "| \\*        | Multiplicación    | `3 * 3 = 9`     |\n",
    "| -         | Resta       | `5 - 2 = 3`     |\n",
    "| +         | Suma          | `2 + 2 = 4`     |\n",
    "\n",
    "Ejemplos:\n",
    "\n",
    "```python\n",
    ">>> 2 + 3 * 6\n",
    "# 20\n",
    "\n",
    ">>> (2 + 3) * 6\n",
    "# 30\n",
    "\n",
    ">>> 2 ** 8\n",
    "#256\n",
    "\n",
    ">>> 23 // 7\n",
    "# 3\n",
    "\n",
    ">>> 23 % 7\n",
    "# 2\n",
    "\n",
    ">>> (5 - 1) * ((7 + 1) / (3 - 1))\n",
    "# 16.0\n",
    "```\n",
    "\n",
    "## Operadores de asignación aumentada\n",
    "\n",
    "| Operator   | Equivalent      |\n",
    "| ---------- | --------------- |\n",
    "| `var += 1` | `var = var + 1` |\n",
    "| `var -= 1` | `var = var - 1` |\n",
    "| `var *= 1` | `var = var * 1` |\n",
    "| `var /= 1` | `var = var / 1` |\n",
    "| `var %= 1` | `var = var % 1` |\n",
    "\n",
    "Ejemplos:\n",
    "\n",
    "```python\n",
    ">>> greeting = 'Hello'\n",
    ">>> greeting += ' world!'\n",
    ">>> greeting\n",
    "# 'Hello world!'\n",
    "\n",
    ">>> number = 1\n",
    ">>> number += 1\n",
    ">>> number\n",
    "# 2\n",
    "\n",
    ">>> my_list = ['item']\n",
    ">>> my_list *= 3\n",
    ">>> my_list\n",
    "# ['item', 'item', 'item']\n",
    "```\n",
    "\n",
    "## Tipos de Datos \n",
    "\n",
    "| Data Type              | Examples                                  |\n",
    "| ---------------------- | ----------------------------------------- |\n",
    "| Integers               | `-2, -1, 0, 1, 2, 3, 4, 5`                |\n",
    "| Floating-point numbers | `-1.25, -1.0, --0.5, 0.0, 0.5, 1.0, 1.25` |\n",
    "| Strings                | `'a', 'aa', 'aaa', 'Hello!', '11 cats'`   |\n",
    "\n",
    "## Concatenación y Repliación\n",
    "\n",
    "Concatenación de String :\n",
    "\n",
    "```python\n",
    ">>> 'Alice' 'Bob'\n",
    "# 'AliceBob'\n",
    "```\n",
    "\n",
    "Replicación de Strings :\n",
    "\n",
    "```python\n",
    ">>> 'Alice' * 5\n",
    "# 'AliceAliceAliceAliceAlice'\n",
    "```\n",
    "\n",
    "## Variables\n",
    "\n",
    "Puede nombrar  una variable de cualquier forma siempre que cumpla las siguientes reglas:\n",
    "\n",
    "1. Puede ser solo una palabra\n",
    "\n",
    "```python\n",
    ">>> # bad\n",
    ">>> my variable = 'Hello'\n",
    "\n",
    ">>> # good\n",
    ">>> var = 'Hello'\n",
    "```\n",
    "\n",
    "2. Solo puede usar letras, numeros y guión bajo (`_`) .\n",
    "\n",
    "```python\n",
    ">>> # bad\n",
    ">>> %$@variable = 'Hello'\n",
    "\n",
    ">>> # good\n",
    ">>> my_var = 'Hello'\n",
    "\n",
    ">>> # good\n",
    ">>> my_var_2 = 'Hello'\n",
    "```\n",
    "\n",
    "3. No pueden comenzar con un número\n",
    "\n",
    "```python\n",
    ">>> # this wont work\n",
    ">>> 23_var = 'hello'\n",
    "```\n",
    "\n",
    "\n",
    "\n",
    "## Comentarios\n",
    "\n",
    "Inline comment:\n",
    "\n",
    "```python\n",
    "# This is a comment\n",
    "```\n",
    "\n",
    "Multiline comment:\n",
    "\n",
    "```python\n",
    "# This is a\n",
    "# multiline comment\n",
    "```\n",
    "\n",
    "Code with a comment:\n",
    "\n",
    "```python\n",
    "a = 1  # initialization\n",
    "```\n",
    "\n",
    "Notar los dos espacios antes del comentario.\n",
    "\n",
    "Documentación de las funciones\n",
    "\n",
    "```python\n",
    "def foo():\n",
    "    \"\"\"\n",
    "    This is a function docstring\n",
    "    You can also use:\n",
    "    ''' Function Docstring '''\n",
    "    \"\"\"\n",
    "```\n",
    "\n",
    "# Funciones \n",
    "\n",
    "## La función `print()`\n",
    "\n",
    "The `print()` function writes the value of the argument(s) it is given. [...] it handles multiple arguments, floating point-quantities, and strings. Strings are printed without quotes, and a space is inserted between items, so you can format things nicely:\n",
    "\n",
    "```python\n",
    ">>> print('Hello world!')\n",
    "# Hello world!\n",
    "\n",
    ">>> a = 1\n",
    ">>> print('Hello world!', a)\n",
    "# Hello world! 1\n",
    "```\n",
    "\n",
    "### The end keyword\n",
    "\n",
    "The keyword argument `end` can be used to avoid the newline after the output, or end the output with a different string:\n",
    "\n",
    "```python\n",
    "phrase = ['printed', 'with', 'a', 'dash', 'in', 'between']\n",
    ">>> for word in phrase:\n",
    "...     print(word, end='-')\n",
    "...\n",
    "# printed-with-a-dash-in-between-\n",
    "```\n",
    "\n",
    "### The sep keyword\n",
    "\n",
    "The keyword `sep` specify how to separate the objects, if there is more than one:\n",
    "\n",
    "```python\n",
    "print('cats', 'dogs', 'mice', sep=',')\n",
    "# cats,dogs,mice\n",
    "```\n",
    "\n",
    "## The input() Function\n",
    "\n",
    "This function takes the input from the user and converts it into a string:\n",
    "\n",
    "```python\n",
    ">>> print('What is your name?')   # ask for their name\n",
    ">>> my_name = input()\n",
    ">>> print('Hi, {}'.format(my_name))\n",
    "# What is your name?\n",
    "# Martha\n",
    "# Hi, Martha\n",
    "```\n",
    "\n",
    "`input()` can also set a default message without using `print()`:\n",
    "\n",
    "```python\n",
    ">>> my_name = input('What is your name? ')  # default message\n",
    ">>> print('Hi, {}'.format(my_name))\n",
    "# What is your name? Martha\n",
    "# Hi, Martha\n",
    "```\n",
    "\n",
    "## The len() Function\n",
    "\n",
    "Evaluates to the integer value of the number of characters in a string, list, dictionary, etc.:\n",
    "\n",
    "```python\n",
    ">>> len('hello')\n",
    "# 5\n",
    "\n",
    ">>> len(['cat', 3, 'dog'])\n",
    "# 3\n",
    "```\n",
    "\n",
    "<base-warning>\n",
    "  <base-warning-title>Test of emptiness</base-warning-title>\n",
    "  <base-warning-content>\n",
    "    Test of emptiness of strings, lists, dictionaries, etc., should not use\n",
    "    <code>len</code>, but prefer direct boolean evaluation.\n",
    "  </base-warning-content>\n",
    "</base-warning>\n",
    "\n",
    "Test of emptiness example:\n",
    "\n",
    "```python\n",
    ">>> a = [1, 2, 3]\n",
    "\n",
    "# bad\n",
    ">>> if len(a) > 0:  # evaluates to True\n",
    "...     print(\"the list is not empty!\")\n",
    "...\n",
    "# the list is not empty!\n",
    "\n",
    "# good\n",
    ">>> if a: # evaluates to True\n",
    "...     print(\"the list is not empty!\")\n",
    "...\n",
    "# the list is not empty!\n",
    "```\n",
    "\n",
    "## The str(), int(), and float() Functions\n",
    "\n",
    "These functions allow you to change the type of variable. For example, you can transform from an `integer` or `float` to a `string`:\n",
    "\n",
    "```python\n",
    ">>> str(29)\n",
    "# '29'\n",
    "\n",
    ">>> str(-3.14)\n",
    "# '-3.14'\n",
    "```\n",
    "\n",
    "Or from a `string` to an `integer` or `float`:\n",
    "\n",
    "```python\n",
    ">>> int('11')\n",
    "# 11\n",
    "\n",
    ">>> float('3.14')\n",
    "# 3.14\n",
    "```\n"
   ]
  },
  {
   "cell_type": "markdown",
   "metadata": {},
   "source": [
    "### Funciones propias\n",
    "\n",
    "\n",
    "\n",
    "Una de las fortalezas de `Python` es que podemos crear funciones. En realidad, muchas de las funciones de `Python` son funciones de funciones.\n",
    "\n",
    "Las funciones se inician con la sentencia `def` y siguen la siguiente estructura básica:\n",
    "\n",
    "```python\n",
    "def nombre_funcion(parametro1, parametro2, ...):\n",
    "    \"\"\"\n",
    "    Descripción de lo que hace la función\n",
    "\n",
    "    Parameters:\n",
    "        parametro1 (clase_parametro1): Descripción del primer parámetro. \n",
    "        parametro2 (clase_parametro2): Descripción del segundo parámetro.\n",
    "\n",
    "    Returns:\n",
    "        output1 (clase_output): Descripción de lo que es el producto y qué valores puede tomar.\n",
    "    \"\"\"\n",
    "\n",
    "    # Bloque de código\n",
    "    \n",
    "    return(resultado)\n",
    "```"
   ]
  },
  {
   "cell_type": "markdown",
   "metadata": {},
   "source": [
    "Por ejemplo, una función que suma dos números `a` y `b` la definimos de la siguiente manera:"
   ]
  },
  {
   "cell_type": "code",
   "execution_count": 2,
   "metadata": {},
   "outputs": [],
   "source": [
    "def suma_dos_numeros(a, b):\n",
    "    \"\"\"\n",
    "    Esta función toma dos números y entrega la suma de estos.\n",
    "\n",
    "    Parameters:\n",
    "        a (float): número a sumar.\n",
    "        b (float): número a sumar.\n",
    "\n",
    "    Returns:\n",
    "        resultado (float): suma de a + b\n",
    "    \"\"\"\n",
    "    \n",
    "    resultado = a + b\n",
    "\n",
    "    return(resultado)"
   ]
  },
  {
   "cell_type": "code",
   "execution_count": 3,
   "metadata": {},
   "outputs": [
    {
     "data": {
      "text/plain": [
       "5"
      ]
     },
     "execution_count": 3,
     "metadata": {},
     "output_type": "execute_result"
    }
   ],
   "source": [
    "suma_dos_numeros(2, 3)"
   ]
  },
  {
   "cell_type": "markdown",
   "metadata": {},
   "source": [
    "Es importante documentar adecuadamente una función para que sea útil a otros usuarios. Así, otros usuarios interesados podrán acceder a la documentación de la función por medio del signo de interrogación (`?`). "
   ]
  },
  {
   "cell_type": "code",
   "execution_count": 4,
   "metadata": {},
   "outputs": [
    {
     "name": "stdout",
     "output_type": "stream",
     "text": [
      "\u001b[0;31mSignature:\u001b[0m \u001b[0msuma_dos_numeros\u001b[0m\u001b[0;34m(\u001b[0m\u001b[0ma\u001b[0m\u001b[0;34m,\u001b[0m \u001b[0mb\u001b[0m\u001b[0;34m)\u001b[0m\u001b[0;34m\u001b[0m\u001b[0;34m\u001b[0m\u001b[0m\n",
      "\u001b[0;31mDocstring:\u001b[0m\n",
      "Esta función toma dos números y entrega la suma de estos.\n",
      "\n",
      "Parameters:\n",
      "    a (float): número a sumar.\n",
      "    b (float): número a sumar.\n",
      "\n",
      "Returns:\n",
      "    resultado (float): suma de a + b\n",
      "\u001b[0;31mFile:\u001b[0m      /var/folders/lp/bhbhb__n1_z91_rjfqljxcdc0000gn/T/ipykernel_5362/101591888.py\n",
      "\u001b[0;31mType:\u001b[0m      function\n"
     ]
    }
   ],
   "source": [
    "?suma_dos_numeros"
   ]
  },
  {
   "cell_type": "markdown",
   "metadata": {},
   "source": [
    "# Introducción a Pandas\n",
    "\n",
    "`Pandas` es quizas la librería más famosa de `Python` para la manipulación de bases de datos. En Pandas existen tres tipos de estructuras: \n",
    "\n",
    "- Series: data en un arreglo 1D, etiquetada, homogénea e inmutable de tamaño.\n",
    "- Data Frames: arreglo 2D, tamaño mutable, columnas heterogéneas, etiquetadas.\n",
    "- Panel: arreglo 3D, tamaño mutable.\n",
    "\n",
    "Para corroborar si `Pandas` está instalada escribimos `!pip show pandas`. Si la librería está instalada debería retornar un mensaje similar al que se ve a continuación."
   ]
  },
  {
   "cell_type": "code",
   "execution_count": 5,
   "metadata": {},
   "outputs": [
    {
     "name": "stdout",
     "output_type": "stream",
     "text": [
      "Name: pandas\n",
      "Version: 1.4.3\n",
      "Summary: Powerful data structures for data analysis, time series, and statistics\n",
      "Home-page: https://pandas.pydata.org\n",
      "Author: The Pandas Development Team\n",
      "Author-email: pandas-dev@python.org\n",
      "License: BSD-3-Clause\n",
      "Location: /Users/iggy/opt/anaconda3/lib/python3.9/site-packages\n",
      "Requires: numpy, python-dateutil, pytz\n",
      "Required-by: altair, ConTexto, datashader, geopandas, holoviews, hvplot, mapclassify, pandas-profiling, pca, phik, pyLDAvis, Quandl, seaborn, statsmodels, visions, xarray\n"
     ]
    }
   ],
   "source": [
    "!pip show pandas"
   ]
  },
  {
   "cell_type": "markdown",
   "metadata": {},
   "source": [
    "En caso contrario es necesario instalarla con el comando `!pip install pandas`. El comando `pip` permite instalar cualquier libreria.\n",
    "\n",
    "Una vez instalada es necesario llamar la libreria `Pandas` usando el comando `import`. Opcionalmente podemos declarar una abreviación para `Pandas`, la forma más usada es `pd`."
   ]
  },
  {
   "cell_type": "code",
   "execution_count": 6,
   "metadata": {},
   "outputs": [],
   "source": [
    "import pandas as pd"
   ]
  },
  {
   "cell_type": "markdown",
   "metadata": {},
   "source": [
    "## Creación de Data Frames "
   ]
  },
  {
   "cell_type": "markdown",
   "metadata": {},
   "source": [
    "`Dataframe` es una de las estructuras mas utilizadas en analisis de datos. Para ilustrar como generar y operar sobre estos, partamos de 4 listas:"
   ]
  },
  {
   "cell_type": "code",
   "execution_count": 7,
   "metadata": {},
   "outputs": [],
   "source": [
    "nombres = ['Lucas', 'Juliana', 'Juan', 'Carla']\n",
    "sexo = ['M', 'F', 'M', None]\n",
    "edad = [23, 21, 25, 30]\n",
    "notas = [4.5, 2, 3.25, 4]"
   ]
  },
  {
   "cell_type": "raw",
   "metadata": {},
   "source": [
    "Luego creamos un diccionario:"
   ]
  },
  {
   "cell_type": "code",
   "execution_count": 8,
   "metadata": {},
   "outputs": [
    {
     "data": {
      "text/plain": [
       "{'names': ['Lucas', 'Juliana', 'Juan', 'Carla'],\n",
       " 'sex': ['M', 'F', 'M', None],\n",
       " 'age': [23, 21, 25, 30],\n",
       " 'grades': [4.5, 2, 3.25, 4]}"
      ]
     },
     "execution_count": 8,
     "metadata": {},
     "output_type": "execute_result"
    }
   ],
   "source": [
    "diccionario = {'names': nombres, 'sex': sexo, 'age': edad, 'grades': notas}\n",
    "diccionario"
   ]
  },
  {
   "cell_type": "markdown",
   "metadata": {},
   "source": [
    "Finalmente un `dataframe` con la función `DataFrame`:"
   ]
  },
  {
   "cell_type": "code",
   "execution_count": 9,
   "metadata": {},
   "outputs": [
    {
     "data": {
      "text/html": [
       "<div>\n",
       "<style scoped>\n",
       "    .dataframe tbody tr th:only-of-type {\n",
       "        vertical-align: middle;\n",
       "    }\n",
       "\n",
       "    .dataframe tbody tr th {\n",
       "        vertical-align: top;\n",
       "    }\n",
       "\n",
       "    .dataframe thead th {\n",
       "        text-align: right;\n",
       "    }\n",
       "</style>\n",
       "<table border=\"1\" class=\"dataframe\">\n",
       "  <thead>\n",
       "    <tr style=\"text-align: right;\">\n",
       "      <th></th>\n",
       "      <th>names</th>\n",
       "      <th>sex</th>\n",
       "      <th>age</th>\n",
       "      <th>grades</th>\n",
       "    </tr>\n",
       "  </thead>\n",
       "  <tbody>\n",
       "    <tr>\n",
       "      <th>0</th>\n",
       "      <td>Lucas</td>\n",
       "      <td>M</td>\n",
       "      <td>23</td>\n",
       "      <td>4.50</td>\n",
       "    </tr>\n",
       "    <tr>\n",
       "      <th>1</th>\n",
       "      <td>Juliana</td>\n",
       "      <td>F</td>\n",
       "      <td>21</td>\n",
       "      <td>2.00</td>\n",
       "    </tr>\n",
       "    <tr>\n",
       "      <th>2</th>\n",
       "      <td>Juan</td>\n",
       "      <td>M</td>\n",
       "      <td>25</td>\n",
       "      <td>3.25</td>\n",
       "    </tr>\n",
       "    <tr>\n",
       "      <th>3</th>\n",
       "      <td>Carla</td>\n",
       "      <td>None</td>\n",
       "      <td>30</td>\n",
       "      <td>4.00</td>\n",
       "    </tr>\n",
       "  </tbody>\n",
       "</table>\n",
       "</div>"
      ],
      "text/plain": [
       "     names   sex  age  grades\n",
       "0    Lucas     M   23    4.50\n",
       "1  Juliana     F   21    2.00\n",
       "2     Juan     M   25    3.25\n",
       "3    Carla  None   30    4.00"
      ]
     },
     "execution_count": 9,
     "metadata": {},
     "output_type": "execute_result"
    }
   ],
   "source": [
    "data = pd.DataFrame(diccionario)\n",
    "data"
   ]
  },
  {
   "cell_type": "markdown",
   "metadata": {},
   "source": [
    " Este objeto tiene atributos a ,los que podemos acceder de la siguiente forma: el nombre de nuestra base, un punto (.), y el nombre del atributo que queremos visitar, es decir, `dataframe.atributo`. \n",
    "\n",
    "Los principales atributos de un `dataframe` son los siguientes:"
   ]
  },
  {
   "cell_type": "markdown",
   "metadata": {},
   "source": [
    "\n",
    "- _info()_. Información básica del `dataframe`: número de observaciones, columnas, clases de cada columna, y cuántos valores completos tiene.\n"
   ]
  },
  {
   "cell_type": "code",
   "execution_count": null,
   "metadata": {},
   "outputs": [
    {
     "name": "stdout",
     "output_type": "stream",
     "text": [
      "<class 'pandas.core.frame.DataFrame'>\n",
      "RangeIndex: 4 entries, 0 to 3\n",
      "Data columns (total 4 columns):\n",
      " #   Column  Non-Null Count  Dtype  \n",
      "---  ------  --------------  -----  \n",
      " 0   names   4 non-null      object \n",
      " 1   sex     3 non-null      object \n",
      " 2   age     4 non-null      int64  \n",
      " 3   grades  4 non-null      float64\n",
      "dtypes: float64(1), int64(1), object(2)\n",
      "memory usage: 256.0+ bytes\n"
     ]
    }
   ],
   "source": [
    "data.info()"
   ]
  },
  {
   "cell_type": "markdown",
   "metadata": {},
   "source": [
    "- _index_. El índice es un identificador de las filas. Generalmente se numeran las filas de  0 a n - 1, sin embargo se pueden cambiar los índices para que sean una palabra o una sequencia de números, lo importante es que no se repitan los índices ."
   ]
  },
  {
   "cell_type": "code",
   "execution_count": 10,
   "metadata": {},
   "outputs": [
    {
     "data": {
      "text/plain": [
       "RangeIndex(start=0, stop=4, step=1)"
      ]
     },
     "execution_count": 10,
     "metadata": {},
     "output_type": "execute_result"
    }
   ],
   "source": [
    "data.index "
   ]
  },
  {
   "cell_type": "markdown",
   "metadata": {},
   "source": [
    "- _columns_. Nombre de las columnas."
   ]
  },
  {
   "cell_type": "code",
   "execution_count": 11,
   "metadata": {},
   "outputs": [
    {
     "data": {
      "text/plain": [
       "Index(['names', 'sex', 'age', 'grades'], dtype='object')"
      ]
     },
     "execution_count": 11,
     "metadata": {},
     "output_type": "execute_result"
    }
   ],
   "source": [
    "data.columns "
   ]
  },
  {
   "cell_type": "markdown",
   "metadata": {},
   "source": [
    "- _shape_. Dimensiones del `dataframe` (filas, columnas)."
   ]
  },
  {
   "cell_type": "code",
   "execution_count": null,
   "metadata": {},
   "outputs": [
    {
     "data": {
      "text/plain": [
       "(4, 4)"
      ]
     },
     "metadata": {},
     "output_type": "display_data"
    }
   ],
   "source": [
    "data.shape"
   ]
  },
  {
   "cell_type": "markdown",
   "metadata": {},
   "source": [
    "- _size_. Cantidad de datos (retorna el número total de elementos: el producto del número de filas por columnas)."
   ]
  },
  {
   "cell_type": "code",
   "execution_count": null,
   "metadata": {},
   "outputs": [
    {
     "data": {
      "text/plain": [
       "16"
      ]
     },
     "metadata": {},
     "output_type": "display_data"
    }
   ],
   "source": [
    "data.size "
   ]
  },
  {
   "cell_type": "markdown",
   "metadata": {},
   "source": [
    "- _count_. Cantidad de datos **no** nulos."
   ]
  },
  {
   "cell_type": "code",
   "execution_count": null,
   "metadata": {},
   "outputs": [
    {
     "data": {
      "text/plain": [
       "<bound method DataFrame.count of      names   sex  age  grades\n",
       "0    Lucas     M   23    4.50\n",
       "1  Juliana     F   21    2.00\n",
       "2     Juan     M   25    3.25\n",
       "3    Carla  None   30    4.00>"
      ]
     },
     "metadata": {},
     "output_type": "display_data"
    }
   ],
   "source": [
    "data.count"
   ]
  },
  {
   "cell_type": "markdown",
   "metadata": {},
   "source": [
    "- _values_. Valores en el `dataframe`."
   ]
  },
  {
   "cell_type": "code",
   "execution_count": null,
   "metadata": {},
   "outputs": [
    {
     "data": {
      "text/plain": [
       "array([['Lucas', 'M', 23, 4.5],\n",
       "       ['Juliana', 'F', 21, 2.0],\n",
       "       ['Juan', 'M', 25, 3.25],\n",
       "       ['Carla', None, 30, 4.0]], dtype=object)"
      ]
     },
     "metadata": {},
     "output_type": "display_data"
    }
   ],
   "source": [
    "data.values"
   ]
  },
  {
   "cell_type": "markdown",
   "metadata": {},
   "source": [
    "- _T_. Trasponer. Notemos que los índices del `dataframe` son los nombres de las columnas del `dataframe` sin trasponer."
   ]
  },
  {
   "cell_type": "code",
   "execution_count": null,
   "metadata": {},
   "outputs": [
    {
     "data": {
      "text/html": [
       "<div>\n",
       "<style scoped>\n",
       "    .dataframe tbody tr th:only-of-type {\n",
       "        vertical-align: middle;\n",
       "    }\n",
       "\n",
       "    .dataframe tbody tr th {\n",
       "        vertical-align: top;\n",
       "    }\n",
       "\n",
       "    .dataframe thead th {\n",
       "        text-align: right;\n",
       "    }\n",
       "</style>\n",
       "<table border=\"1\" class=\"dataframe\">\n",
       "  <thead>\n",
       "    <tr style=\"text-align: right;\">\n",
       "      <th></th>\n",
       "      <th>0</th>\n",
       "      <th>1</th>\n",
       "      <th>2</th>\n",
       "      <th>3</th>\n",
       "    </tr>\n",
       "  </thead>\n",
       "  <tbody>\n",
       "    <tr>\n",
       "      <th>names</th>\n",
       "      <td>Lucas</td>\n",
       "      <td>Juliana</td>\n",
       "      <td>Juan</td>\n",
       "      <td>Carla</td>\n",
       "    </tr>\n",
       "    <tr>\n",
       "      <th>sex</th>\n",
       "      <td>M</td>\n",
       "      <td>F</td>\n",
       "      <td>M</td>\n",
       "      <td>None</td>\n",
       "    </tr>\n",
       "    <tr>\n",
       "      <th>age</th>\n",
       "      <td>23</td>\n",
       "      <td>21</td>\n",
       "      <td>25</td>\n",
       "      <td>30</td>\n",
       "    </tr>\n",
       "    <tr>\n",
       "      <th>grades</th>\n",
       "      <td>4.5</td>\n",
       "      <td>2.0</td>\n",
       "      <td>3.25</td>\n",
       "      <td>4.0</td>\n",
       "    </tr>\n",
       "  </tbody>\n",
       "</table>\n",
       "</div>"
      ],
      "text/plain": [
       "            0        1     2      3\n",
       "names   Lucas  Juliana  Juan  Carla\n",
       "sex         M        F     M   None\n",
       "age        23       21    25     30\n",
       "grades    4.5      2.0  3.25    4.0"
      ]
     },
     "metadata": {},
     "output_type": "display_data"
    }
   ],
   "source": [
    "data.T "
   ]
  },
  {
   "cell_type": "markdown",
   "metadata": {},
   "source": [
    "- _dtypes_. Tipos de cada variable."
   ]
  },
  {
   "cell_type": "code",
   "execution_count": null,
   "metadata": {},
   "outputs": [
    {
     "data": {
      "text/plain": [
       "names      object\n",
       "sex        object\n",
       "age         int64\n",
       "grades    float64\n",
       "dtype: object"
      ]
     },
     "metadata": {},
     "output_type": "display_data"
    }
   ],
   "source": [
    "data.dtypes"
   ]
  },
  {
   "cell_type": "markdown",
   "metadata": {},
   "source": [
    "### Filtrar datos \n",
    "\n",
    "Existen diferentes métodos para filtrar `dataframes`.\n",
    "\n",
    "Para filtrar utilizando el nombre que identifica a la fila o a la columna usamos  `.loc`.\n",
    "\n",
    "Por ejemplo:"
   ]
  },
  {
   "cell_type": "markdown",
   "metadata": {},
   "source": [
    "- Extraer la columna `names`."
   ]
  },
  {
   "cell_type": "code",
   "execution_count": null,
   "metadata": {},
   "outputs": [
    {
     "data": {
      "text/plain": [
       "0      Lucas\n",
       "1    Juliana\n",
       "2       Juan\n",
       "3      Carla\n",
       "Name: names, dtype: object"
      ]
     },
     "metadata": {},
     "output_type": "display_data"
    }
   ],
   "source": [
    "data.loc[:,'names'] "
   ]
  },
  {
   "cell_type": "markdown",
   "metadata": {},
   "source": [
    "- Extraer las columnas `names` y `sex`."
   ]
  },
  {
   "cell_type": "code",
   "execution_count": null,
   "metadata": {},
   "outputs": [
    {
     "data": {
      "text/html": [
       "<div>\n",
       "<style scoped>\n",
       "    .dataframe tbody tr th:only-of-type {\n",
       "        vertical-align: middle;\n",
       "    }\n",
       "\n",
       "    .dataframe tbody tr th {\n",
       "        vertical-align: top;\n",
       "    }\n",
       "\n",
       "    .dataframe thead th {\n",
       "        text-align: right;\n",
       "    }\n",
       "</style>\n",
       "<table border=\"1\" class=\"dataframe\">\n",
       "  <thead>\n",
       "    <tr style=\"text-align: right;\">\n",
       "      <th></th>\n",
       "      <th>names</th>\n",
       "      <th>sex</th>\n",
       "    </tr>\n",
       "  </thead>\n",
       "  <tbody>\n",
       "    <tr>\n",
       "      <th>0</th>\n",
       "      <td>Lucas</td>\n",
       "      <td>M</td>\n",
       "    </tr>\n",
       "    <tr>\n",
       "      <th>1</th>\n",
       "      <td>Juliana</td>\n",
       "      <td>F</td>\n",
       "    </tr>\n",
       "    <tr>\n",
       "      <th>2</th>\n",
       "      <td>Juan</td>\n",
       "      <td>M</td>\n",
       "    </tr>\n",
       "    <tr>\n",
       "      <th>3</th>\n",
       "      <td>Carla</td>\n",
       "      <td>None</td>\n",
       "    </tr>\n",
       "  </tbody>\n",
       "</table>\n",
       "</div>"
      ],
      "text/plain": [
       "     names   sex\n",
       "0    Lucas     M\n",
       "1  Juliana     F\n",
       "2     Juan     M\n",
       "3    Carla  None"
      ]
     },
     "metadata": {},
     "output_type": "display_data"
    }
   ],
   "source": [
    "data.loc[:, ['names', 'sex']] "
   ]
  },
  {
   "cell_type": "markdown",
   "metadata": {},
   "source": [
    "- Extraer columnas unicamente, obviando el comando `loc` y usando corchetes."
   ]
  },
  {
   "cell_type": "code",
   "execution_count": null,
   "metadata": {},
   "outputs": [
    {
     "data": {
      "text/html": [
       "<div>\n",
       "<style scoped>\n",
       "    .dataframe tbody tr th:only-of-type {\n",
       "        vertical-align: middle;\n",
       "    }\n",
       "\n",
       "    .dataframe tbody tr th {\n",
       "        vertical-align: top;\n",
       "    }\n",
       "\n",
       "    .dataframe thead th {\n",
       "        text-align: right;\n",
       "    }\n",
       "</style>\n",
       "<table border=\"1\" class=\"dataframe\">\n",
       "  <thead>\n",
       "    <tr style=\"text-align: right;\">\n",
       "      <th></th>\n",
       "      <th>names</th>\n",
       "      <th>sex</th>\n",
       "    </tr>\n",
       "  </thead>\n",
       "  <tbody>\n",
       "    <tr>\n",
       "      <th>0</th>\n",
       "      <td>Lucas</td>\n",
       "      <td>M</td>\n",
       "    </tr>\n",
       "    <tr>\n",
       "      <th>1</th>\n",
       "      <td>Juliana</td>\n",
       "      <td>F</td>\n",
       "    </tr>\n",
       "    <tr>\n",
       "      <th>2</th>\n",
       "      <td>Juan</td>\n",
       "      <td>M</td>\n",
       "    </tr>\n",
       "    <tr>\n",
       "      <th>3</th>\n",
       "      <td>Carla</td>\n",
       "      <td>None</td>\n",
       "    </tr>\n",
       "  </tbody>\n",
       "</table>\n",
       "</div>"
      ],
      "text/plain": [
       "     names   sex\n",
       "0    Lucas     M\n",
       "1  Juliana     F\n",
       "2     Juan     M\n",
       "3    Carla  None"
      ]
     },
     "metadata": {},
     "output_type": "display_data"
    }
   ],
   "source": [
    "data[['names', 'sex']]"
   ]
  },
  {
   "cell_type": "markdown",
   "metadata": {},
   "source": [
    "Del mismo modo, para acceder a una columna y el nombre de esta no tiene espacios ni caracteres especiales, podemos acceder utilizando el comando `nombre_base.nombre_columna`."
   ]
  },
  {
   "cell_type": "code",
   "execution_count": null,
   "metadata": {},
   "outputs": [
    {
     "data": {
      "text/plain": [
       "0      Lucas\n",
       "1    Juliana\n",
       "2       Juan\n",
       "3      Carla\n",
       "Name: names, dtype: object"
      ]
     },
     "metadata": {},
     "output_type": "display_data"
    }
   ],
   "source": [
    "data.names"
   ]
  },
  {
   "cell_type": "markdown",
   "metadata": {},
   "source": [
    "Para acceder a la posición de la fila o la columna, usamos el método `iloc`. Es importante recordar que `Python` denota la primera posición con 0.\n",
    "\n",
    "Por ejemplo:\n"
   ]
  },
  {
   "cell_type": "markdown",
   "metadata": {},
   "source": [
    "- Extraer el primer elemento."
   ]
  },
  {
   "cell_type": "code",
   "execution_count": null,
   "metadata": {},
   "outputs": [
    {
     "data": {
      "text/plain": [
       "0      Lucas\n",
       "1    Juliana\n",
       "2       Juan\n",
       "3      Carla\n",
       "Name: names, dtype: object"
      ]
     },
     "metadata": {},
     "output_type": "display_data"
    }
   ],
   "source": [
    "data.iloc[:,0] "
   ]
  },
  {
   "cell_type": "markdown",
   "metadata": {},
   "source": [
    "- Extraer la tercera y cuarta fila del `dataframe`."
   ]
  },
  {
   "cell_type": "code",
   "execution_count": null,
   "metadata": {},
   "outputs": [
    {
     "data": {
      "text/html": [
       "<div>\n",
       "<style scoped>\n",
       "    .dataframe tbody tr th:only-of-type {\n",
       "        vertical-align: middle;\n",
       "    }\n",
       "\n",
       "    .dataframe tbody tr th {\n",
       "        vertical-align: top;\n",
       "    }\n",
       "\n",
       "    .dataframe thead th {\n",
       "        text-align: right;\n",
       "    }\n",
       "</style>\n",
       "<table border=\"1\" class=\"dataframe\">\n",
       "  <thead>\n",
       "    <tr style=\"text-align: right;\">\n",
       "      <th></th>\n",
       "      <th>names</th>\n",
       "      <th>sex</th>\n",
       "      <th>age</th>\n",
       "      <th>grades</th>\n",
       "    </tr>\n",
       "  </thead>\n",
       "  <tbody>\n",
       "    <tr>\n",
       "      <th>2</th>\n",
       "      <td>Juan</td>\n",
       "      <td>M</td>\n",
       "      <td>25</td>\n",
       "      <td>3.25</td>\n",
       "    </tr>\n",
       "    <tr>\n",
       "      <th>3</th>\n",
       "      <td>Carla</td>\n",
       "      <td>None</td>\n",
       "      <td>30</td>\n",
       "      <td>4.00</td>\n",
       "    </tr>\n",
       "  </tbody>\n",
       "</table>\n",
       "</div>"
      ],
      "text/plain": [
       "   names   sex  age  grades\n",
       "2   Juan     M   25    3.25\n",
       "3  Carla  None   30    4.00"
      ]
     },
     "metadata": {},
     "output_type": "display_data"
    }
   ],
   "source": [
    "data.iloc[2:4,]"
   ]
  },
  {
   "cell_type": "markdown",
   "metadata": {},
   "source": [
    "El comando `.loc` permite filtrar la base utilizando condicionales. Por ejemplo, para filtrar los individuos con `sex` igual a `F` podemos utilizar un condicional para marcar las filas: en donde hay un `F` con `True` y  donde no lo hay con `False`.\n"
   ]
  },
  {
   "cell_type": "code",
   "execution_count": null,
   "metadata": {},
   "outputs": [
    {
     "data": {
      "text/plain": [
       "0    False\n",
       "1     True\n",
       "2    False\n",
       "3    False\n",
       "Name: sex, dtype: bool"
      ]
     },
     "metadata": {},
     "output_type": "display_data"
    }
   ],
   "source": [
    "filtro = data[\"sex\"] == \"F\"\n",
    "filtro "
   ]
  },
  {
   "cell_type": "code",
   "execution_count": null,
   "metadata": {},
   "outputs": [
    {
     "data": {
      "text/html": [
       "<div>\n",
       "<style scoped>\n",
       "    .dataframe tbody tr th:only-of-type {\n",
       "        vertical-align: middle;\n",
       "    }\n",
       "\n",
       "    .dataframe tbody tr th {\n",
       "        vertical-align: top;\n",
       "    }\n",
       "\n",
       "    .dataframe thead th {\n",
       "        text-align: right;\n",
       "    }\n",
       "</style>\n",
       "<table border=\"1\" class=\"dataframe\">\n",
       "  <thead>\n",
       "    <tr style=\"text-align: right;\">\n",
       "      <th></th>\n",
       "      <th>names</th>\n",
       "      <th>sex</th>\n",
       "      <th>age</th>\n",
       "      <th>grades</th>\n",
       "    </tr>\n",
       "  </thead>\n",
       "  <tbody>\n",
       "    <tr>\n",
       "      <th>1</th>\n",
       "      <td>Juliana</td>\n",
       "      <td>F</td>\n",
       "      <td>21</td>\n",
       "      <td>2.0</td>\n",
       "    </tr>\n",
       "  </tbody>\n",
       "</table>\n",
       "</div>"
      ],
      "text/plain": [
       "     names sex  age  grades\n",
       "1  Juliana   F   21     2.0"
      ]
     },
     "metadata": {},
     "output_type": "display_data"
    }
   ],
   "source": [
    "data.loc[filtro,] "
   ]
  },
  {
   "cell_type": "markdown",
   "metadata": {},
   "source": [
    "### Crear una columna\n",
    "\n",
    "Para crear una nueva columna hacemos lo siguiente:\n",
    "`nombre_base['nombre_columna'] = contenido_columna`."
   ]
  },
  {
   "cell_type": "code",
   "execution_count": null,
   "metadata": {},
   "outputs": [],
   "source": [
    "data['rescaled_grades'] = data.grades*100/5"
   ]
  },
  {
   "cell_type": "markdown",
   "metadata": {},
   "source": [
    "##  Estadísticas Descriptivas"
   ]
  },
  {
   "cell_type": "markdown",
   "metadata": {},
   "source": [
    "Para describir los datos de un `dataframe` se pueden utilizar distintas funciones contenidas en `Pandas`.\n",
    "\n",
    "Algunos ejemplos son:"
   ]
  },
  {
   "cell_type": "markdown",
   "metadata": {},
   "source": [
    "- _describe()_. Muestra estadísticas descriptivas básicas de las variables numéricas."
   ]
  },
  {
   "cell_type": "code",
   "execution_count": null,
   "metadata": {},
   "outputs": [
    {
     "data": {
      "text/html": [
       "<div>\n",
       "<style scoped>\n",
       "    .dataframe tbody tr th:only-of-type {\n",
       "        vertical-align: middle;\n",
       "    }\n",
       "\n",
       "    .dataframe tbody tr th {\n",
       "        vertical-align: top;\n",
       "    }\n",
       "\n",
       "    .dataframe thead th {\n",
       "        text-align: right;\n",
       "    }\n",
       "</style>\n",
       "<table border=\"1\" class=\"dataframe\">\n",
       "  <thead>\n",
       "    <tr style=\"text-align: right;\">\n",
       "      <th></th>\n",
       "      <th>age</th>\n",
       "      <th>grades</th>\n",
       "      <th>rescaled_grades</th>\n",
       "    </tr>\n",
       "  </thead>\n",
       "  <tbody>\n",
       "    <tr>\n",
       "      <th>count</th>\n",
       "      <td>4.00000</td>\n",
       "      <td>4.000000</td>\n",
       "      <td>4.000000</td>\n",
       "    </tr>\n",
       "    <tr>\n",
       "      <th>mean</th>\n",
       "      <td>24.75000</td>\n",
       "      <td>3.437500</td>\n",
       "      <td>68.750000</td>\n",
       "    </tr>\n",
       "    <tr>\n",
       "      <th>std</th>\n",
       "      <td>3.86221</td>\n",
       "      <td>1.087332</td>\n",
       "      <td>21.746647</td>\n",
       "    </tr>\n",
       "    <tr>\n",
       "      <th>min</th>\n",
       "      <td>21.00000</td>\n",
       "      <td>2.000000</td>\n",
       "      <td>40.000000</td>\n",
       "    </tr>\n",
       "    <tr>\n",
       "      <th>25%</th>\n",
       "      <td>22.50000</td>\n",
       "      <td>2.937500</td>\n",
       "      <td>58.750000</td>\n",
       "    </tr>\n",
       "    <tr>\n",
       "      <th>50%</th>\n",
       "      <td>24.00000</td>\n",
       "      <td>3.625000</td>\n",
       "      <td>72.500000</td>\n",
       "    </tr>\n",
       "    <tr>\n",
       "      <th>75%</th>\n",
       "      <td>26.25000</td>\n",
       "      <td>4.125000</td>\n",
       "      <td>82.500000</td>\n",
       "    </tr>\n",
       "    <tr>\n",
       "      <th>max</th>\n",
       "      <td>30.00000</td>\n",
       "      <td>4.500000</td>\n",
       "      <td>90.000000</td>\n",
       "    </tr>\n",
       "  </tbody>\n",
       "</table>\n",
       "</div>"
      ],
      "text/plain": [
       "            age    grades  rescaled_grades\n",
       "count   4.00000  4.000000         4.000000\n",
       "mean   24.75000  3.437500        68.750000\n",
       "std     3.86221  1.087332        21.746647\n",
       "min    21.00000  2.000000        40.000000\n",
       "25%    22.50000  2.937500        58.750000\n",
       "50%    24.00000  3.625000        72.500000\n",
       "75%    26.25000  4.125000        82.500000\n",
       "max    30.00000  4.500000        90.000000"
      ]
     },
     "metadata": {},
     "output_type": "display_data"
    }
   ],
   "source": [
    "data.describe() "
   ]
  },
  {
   "cell_type": "markdown",
   "metadata": {},
   "source": [
    "- _sum()_. Suma."
   ]
  },
  {
   "cell_type": "code",
   "execution_count": null,
   "metadata": {},
   "outputs": [
    {
     "data": {
      "text/plain": [
       "names              LucasJulianaJuanCarla\n",
       "age                                   99\n",
       "grades                             13.75\n",
       "rescaled_grades                    275.0\n",
       "dtype: object"
      ]
     },
     "metadata": {},
     "output_type": "display_data"
    }
   ],
   "source": [
    "data.sum()"
   ]
  },
  {
   "cell_type": "markdown",
   "metadata": {},
   "source": [
    "- _min()_. Mínimo."
   ]
  },
  {
   "cell_type": "code",
   "execution_count": null,
   "metadata": {},
   "outputs": [
    {
     "data": {
      "text/plain": [
       "names              Carla\n",
       "age                   21\n",
       "grades               2.0\n",
       "rescaled_grades     40.0\n",
       "dtype: object"
      ]
     },
     "metadata": {},
     "output_type": "display_data"
    }
   ],
   "source": [
    "data.min()"
   ]
  },
  {
   "cell_type": "markdown",
   "metadata": {},
   "source": [
    "- _max()_. Máximo."
   ]
  },
  {
   "cell_type": "code",
   "execution_count": null,
   "metadata": {},
   "outputs": [
    {
     "data": {
      "text/plain": [
       "names              Lucas\n",
       "age                   30\n",
       "grades               4.5\n",
       "rescaled_grades     90.0\n",
       "dtype: object"
      ]
     },
     "metadata": {},
     "output_type": "display_data"
    }
   ],
   "source": [
    "data.max()"
   ]
  },
  {
   "cell_type": "markdown",
   "metadata": {},
   "source": [
    "- _idxmin()_. Índice de la posición del valor mínimo."
   ]
  },
  {
   "cell_type": "code",
   "execution_count": null,
   "metadata": {},
   "outputs": [
    {
     "data": {
      "text/plain": [
       "1"
      ]
     },
     "metadata": {},
     "output_type": "display_data"
    }
   ],
   "source": [
    "data.age.idxmin()"
   ]
  },
  {
   "cell_type": "markdown",
   "metadata": {},
   "source": [
    "- _idxmax()_. Índice de la posición del valor máximo."
   ]
  },
  {
   "cell_type": "code",
   "execution_count": null,
   "metadata": {},
   "outputs": [
    {
     "data": {
      "text/plain": [
       "0"
      ]
     },
     "metadata": {},
     "output_type": "display_data"
    }
   ],
   "source": [
    "data.grades.idxmax()"
   ]
  },
  {
   "cell_type": "markdown",
   "metadata": {},
   "source": [
    "- _mean()_. Media."
   ]
  },
  {
   "cell_type": "code",
   "execution_count": null,
   "metadata": {},
   "outputs": [
    {
     "data": {
      "text/plain": [
       "age                24.7500\n",
       "grades              3.4375\n",
       "rescaled_grades    68.7500\n",
       "dtype: float64"
      ]
     },
     "metadata": {},
     "output_type": "display_data"
    }
   ],
   "source": [
    "data.mean()"
   ]
  },
  {
   "cell_type": "markdown",
   "metadata": {},
   "source": [
    "- _median()_. Mediana."
   ]
  },
  {
   "cell_type": "code",
   "execution_count": null,
   "metadata": {},
   "outputs": [
    {
     "data": {
      "text/plain": [
       "age                24.000\n",
       "grades              3.625\n",
       "rescaled_grades    72.500\n",
       "dtype: float64"
      ]
     },
     "metadata": {},
     "output_type": "display_data"
    }
   ],
   "source": [
    "data.median()"
   ]
  },
  {
   "cell_type": "markdown",
   "metadata": {},
   "source": [
    "## Importar datos\n"
   ]
  },
  {
   "cell_type": "markdown",
   "metadata": {},
   "source": [
    "Para cargar un archivo en formato csv usamos la función `pd.read_csv()`:"
   ]
  },
  {
   "cell_type": "code",
   "execution_count": 12,
   "metadata": {},
   "outputs": [
    {
     "data": {
      "text/html": [
       "<div>\n",
       "<style scoped>\n",
       "    .dataframe tbody tr th:only-of-type {\n",
       "        vertical-align: middle;\n",
       "    }\n",
       "\n",
       "    .dataframe tbody tr th {\n",
       "        vertical-align: top;\n",
       "    }\n",
       "\n",
       "    .dataframe thead th {\n",
       "        text-align: right;\n",
       "    }\n",
       "</style>\n",
       "<table border=\"1\" class=\"dataframe\">\n",
       "  <thead>\n",
       "    <tr style=\"text-align: right;\">\n",
       "      <th></th>\n",
       "      <th>Fecha</th>\n",
       "      <th>GravedadNombre</th>\n",
       "      <th>ClaseNombre</th>\n",
       "      <th>ChoqueNombre</th>\n",
       "      <th>ObjetoFijoCodigo</th>\n",
       "      <th>ObjetoFijoNombre</th>\n",
       "      <th>OtraClase</th>\n",
       "      <th>NombreOtraClase</th>\n",
       "      <th>Latitud</th>\n",
       "      <th>Longitud</th>\n",
       "      <th>...</th>\n",
       "      <th>TipoVia2</th>\n",
       "      <th>NumeroVia2</th>\n",
       "      <th>LetraVia2</th>\n",
       "      <th>CardinalVia2</th>\n",
       "      <th>Localidad</th>\n",
       "      <th>HoraOcurrencia</th>\n",
       "      <th>TipoDiseño</th>\n",
       "      <th>TipoTiempo</th>\n",
       "      <th>TotalMuertos</th>\n",
       "      <th>TotalHeridos</th>\n",
       "    </tr>\n",
       "  </thead>\n",
       "  <tbody>\n",
       "    <tr>\n",
       "      <th>0</th>\n",
       "      <td>01/13/2016 12:00:00 AM</td>\n",
       "      <td>Con Heridos</td>\n",
       "      <td>Choque</td>\n",
       "      <td>Vehiculo</td>\n",
       "      <td></td>\n",
       "      <td></td>\n",
       "      <td></td>\n",
       "      <td></td>\n",
       "      <td>0.0</td>\n",
       "      <td>0.0</td>\n",
       "      <td>...</td>\n",
       "      <td>CL</td>\n",
       "      <td>83.0</td>\n",
       "      <td></td>\n",
       "      <td></td>\n",
       "      <td>ENGATIVA</td>\n",
       "      <td>12/31/1899 10:30:00 PM</td>\n",
       "      <td>Interseccion</td>\n",
       "      <td>Normal</td>\n",
       "      <td>0</td>\n",
       "      <td>2</td>\n",
       "    </tr>\n",
       "    <tr>\n",
       "      <th>1</th>\n",
       "      <td>01-12-16 0:00</td>\n",
       "      <td>Con Heridos</td>\n",
       "      <td>Atropello</td>\n",
       "      <td></td>\n",
       "      <td></td>\n",
       "      <td></td>\n",
       "      <td></td>\n",
       "      <td></td>\n",
       "      <td>0.0</td>\n",
       "      <td>0.0</td>\n",
       "      <td>...</td>\n",
       "      <td>KR</td>\n",
       "      <td>7.0</td>\n",
       "      <td></td>\n",
       "      <td></td>\n",
       "      <td>USAQUEN</td>\n",
       "      <td>12/31/1899 03:40:00 PM</td>\n",
       "      <td>Interseccion</td>\n",
       "      <td>Normal</td>\n",
       "      <td>0</td>\n",
       "      <td>1</td>\n",
       "    </tr>\n",
       "    <tr>\n",
       "      <th>2</th>\n",
       "      <td>01/13/2016 12:00:00 AM</td>\n",
       "      <td>Solo Daños</td>\n",
       "      <td>Choque</td>\n",
       "      <td>Vehiculo</td>\n",
       "      <td></td>\n",
       "      <td></td>\n",
       "      <td></td>\n",
       "      <td></td>\n",
       "      <td>0.0</td>\n",
       "      <td>0.0</td>\n",
       "      <td>...</td>\n",
       "      <td>KR</td>\n",
       "      <td>5.0</td>\n",
       "      <td></td>\n",
       "      <td>E</td>\n",
       "      <td>SAN CRISTOBAL</td>\n",
       "      <td>12/31/1899 07:20:00 AM</td>\n",
       "      <td>Tramo de Via</td>\n",
       "      <td>Normal</td>\n",
       "      <td>0</td>\n",
       "      <td>0</td>\n",
       "    </tr>\n",
       "    <tr>\n",
       "      <th>3</th>\n",
       "      <td>01/17/2016 12:00:00 AM</td>\n",
       "      <td>Solo Daños</td>\n",
       "      <td>Choque</td>\n",
       "      <td>Vehiculo</td>\n",
       "      <td></td>\n",
       "      <td></td>\n",
       "      <td></td>\n",
       "      <td></td>\n",
       "      <td>0.0</td>\n",
       "      <td>0.0</td>\n",
       "      <td>...</td>\n",
       "      <td>KR</td>\n",
       "      <td>107.0</td>\n",
       "      <td></td>\n",
       "      <td></td>\n",
       "      <td>ENGATIVA</td>\n",
       "      <td>12/31/1899 06:10:00 AM</td>\n",
       "      <td>Tramo de Via</td>\n",
       "      <td>Normal</td>\n",
       "      <td>0</td>\n",
       "      <td>0</td>\n",
       "    </tr>\n",
       "    <tr>\n",
       "      <th>4</th>\n",
       "      <td>01/18/2016 12:00:00 AM</td>\n",
       "      <td>Solo Daños</td>\n",
       "      <td>Choque</td>\n",
       "      <td>Vehiculo</td>\n",
       "      <td></td>\n",
       "      <td></td>\n",
       "      <td></td>\n",
       "      <td></td>\n",
       "      <td>0.0</td>\n",
       "      <td>0.0</td>\n",
       "      <td>...</td>\n",
       "      <td>CL</td>\n",
       "      <td>48.0</td>\n",
       "      <td></td>\n",
       "      <td>S</td>\n",
       "      <td>RAFAEL URIBE URIBE</td>\n",
       "      <td>12/31/1899 05:00:00 PM</td>\n",
       "      <td>Tramo de Via</td>\n",
       "      <td>Normal</td>\n",
       "      <td>0</td>\n",
       "      <td>0</td>\n",
       "    </tr>\n",
       "  </tbody>\n",
       "</table>\n",
       "<p>5 rows × 25 columns</p>\n",
       "</div>"
      ],
      "text/plain": [
       "                    Fecha GravedadNombre ClaseNombre ChoqueNombre  \\\n",
       "0  01/13/2016 12:00:00 AM    Con Heridos      Choque     Vehiculo   \n",
       "1           01-12-16 0:00    Con Heridos   Atropello                \n",
       "2  01/13/2016 12:00:00 AM     Solo Daños      Choque     Vehiculo   \n",
       "3  01/17/2016 12:00:00 AM     Solo Daños      Choque     Vehiculo   \n",
       "4  01/18/2016 12:00:00 AM     Solo Daños      Choque     Vehiculo   \n",
       "\n",
       "  ObjetoFijoCodigo ObjetoFijoNombre OtraClase NombreOtraClase  Latitud  \\\n",
       "0                                                                  0.0   \n",
       "1                                                                  0.0   \n",
       "2                                                                  0.0   \n",
       "3                                                                  0.0   \n",
       "4                                                                  0.0   \n",
       "\n",
       "   Longitud  ... TipoVia2 NumeroVia2 LetraVia2 CardinalVia2  \\\n",
       "0       0.0  ...       CL       83.0                          \n",
       "1       0.0  ...       KR        7.0                          \n",
       "2       0.0  ...       KR        5.0                      E   \n",
       "3       0.0  ...       KR      107.0                          \n",
       "4       0.0  ...       CL       48.0                      S   \n",
       "\n",
       "            Localidad          HoraOcurrencia    TipoDiseño TipoTiempo  \\\n",
       "0            ENGATIVA  12/31/1899 10:30:00 PM  Interseccion     Normal   \n",
       "1             USAQUEN  12/31/1899 03:40:00 PM  Interseccion     Normal   \n",
       "2       SAN CRISTOBAL  12/31/1899 07:20:00 AM  Tramo de Via     Normal   \n",
       "3            ENGATIVA  12/31/1899 06:10:00 AM  Tramo de Via     Normal   \n",
       "4  RAFAEL URIBE URIBE  12/31/1899 05:00:00 PM  Tramo de Via     Normal   \n",
       "\n",
       "  TotalMuertos TotalHeridos  \n",
       "0            0            2  \n",
       "1            0            1  \n",
       "2            0            0  \n",
       "3            0            0  \n",
       "4            0            0  \n",
       "\n",
       "[5 rows x 25 columns]"
      ]
     },
     "execution_count": 12,
     "metadata": {},
     "output_type": "execute_result"
    }
   ],
   "source": [
    "accidentes = pd.read_csv('https://github.com/ignaciomsarmiento/RecomSystemsLectures/blob/main/L01_Intro_Sistemas_Recomendac/Parte2/Data/info_accidentes.csv?raw=true')\n",
    "accidentes.head()"
   ]
  },
  {
   "cell_type": "markdown",
   "metadata": {},
   "source": [
    "La función `pd.read_csv` puede tomar multiples argumentos que ayudan en la lectura de los archivos. Para conocer estos argumentos y sus detalles utilizamos la función `ayuda` denotada por el signo de interrogación `?`."
   ]
  },
  {
   "cell_type": "code",
   "execution_count": null,
   "metadata": {},
   "outputs": [],
   "source": [
    "?pd.read_csv"
   ]
  },
  {
   "cell_type": "markdown",
   "metadata": {},
   "source": [
    "Para cargar un archivo de Excel usamos la función `pd.read_excel()`"
   ]
  },
  {
   "cell_type": "code",
   "execution_count": null,
   "metadata": {},
   "outputs": [
    {
     "name": "stdout",
     "output_type": "stream",
     "text": [
      "<class 'pandas.core.frame.DataFrame'>\n",
      "RangeIndex: 34931 entries, 0 to 34930\n",
      "Data columns (total 25 columns):\n",
      " #   Column            Non-Null Count  Dtype  \n",
      "---  ------            --------------  -----  \n",
      " 0   Fecha             34931 non-null  object \n",
      " 1   GravedadNombre    34931 non-null  object \n",
      " 2   ClaseNombre       34931 non-null  object \n",
      " 3   ChoqueNombre      34931 non-null  object \n",
      " 4   ObjetoFijoCodigo  34931 non-null  object \n",
      " 5   ObjetoFijoNombre  34931 non-null  object \n",
      " 6   OtraClase         34931 non-null  object \n",
      " 7   NombreOtraClase   34931 non-null  object \n",
      " 8   Latitud           34931 non-null  float64\n",
      " 9   Longitud          34931 non-null  float64\n",
      " 10  Direccion         34931 non-null  object \n",
      " 11  TipoVia1          34931 non-null  object \n",
      " 12  NumeroVia1        34931 non-null  object \n",
      " 13  LetraVia1         34931 non-null  object \n",
      " 14  CardinalVia1      34931 non-null  object \n",
      " 15  TipoVia2          34931 non-null  object \n",
      " 16  NumeroVia2        34625 non-null  float64\n",
      " 17  LetraVia2         34931 non-null  object \n",
      " 18  CardinalVia2      34931 non-null  object \n",
      " 19  Localidad         34931 non-null  object \n",
      " 20  HoraOcurrencia    34931 non-null  object \n",
      " 21  TipoDiseño        34931 non-null  object \n",
      " 22  TipoTiempo        34931 non-null  object \n",
      " 23  TotalMuertos      34931 non-null  int64  \n",
      " 24  TotalHeridos      34931 non-null  int64  \n",
      "dtypes: float64(3), int64(2), object(20)\n",
      "memory usage: 6.7+ MB\n"
     ]
    }
   ],
   "source": [
    "accidentes2 = pd.read_excel('https://github.com/ignaciomsarmiento/RecomSystemsLectures/blob/main/L01_Intro_Sistemas_Recomendac/Parte2/Data/info_accidentes.xlsx?raw=true')\n",
    "accidentes2.info()"
   ]
  },
  {
   "cell_type": "markdown",
   "metadata": {},
   "source": [
    "# Recomendadores basados en conocimiento\n",
    "\n",
    "Los recomendadores basados en  conocimiento utilizan principalmente artículos que rara vez se usan o compran. Si los artículos son raramente comprados es muy difícil tener información previa a partir de la cuál de ellos se puede generar una recomendación. La venta de bienes raíces es un ejemplo de esto. La compra de una casa suele ser a menudo una compra de una vez en la vida, no se tiene por lo tanto información adicional para generar recomendaciones.\n",
    "\n",
    "En casos como este, el sistema de recomendación funciona similar a lo que haría un ser humano. Le pregunta al usuario sobre preferencias y detalles; y a partir de estos, genera recomendaciones. Volviendo al ejemplo anterior, el sistema podría preguntar sobre qué tipo de propiedad prefiere, qué barrios, cuál es su presupuesto, etc.; y a partir de estos ofrecer una recomendación."
   ]
  },
  {
   "cell_type": "markdown",
   "metadata": {},
   "source": [
    "## Primera aproximación en `Python`\n",
    "\n",
    "\n",
    "En este *cuaderno*, obtuvimos una visión general del mundo de los sistemas de recomendación y un resumen de  distintos tipos de recomendadores. Sin embargo, antes de terminarlo implementaremos dos sistemas de recomendación: uno simple y otro basado en conocimiento. Estos ilustrarán de manera sencilla como funcionan los sistemas en la práctica y nos permitirán tener una mejor base para cuando busquemos aboradar sistemas más complejos en *cuadernos* futuros. \n",
    "\n",
    "###  Implementaciones en  `Python`\n",
    "\n",
    "Para ilustrar el funcionamiento de estos recomendadores simples vamos a utilizar una versión simplificada y traducida de la base de datos de películas: [MovieLens](https://grouplens.org/datasets/movielens/latest/) provista abiertamente por [grouplens](https://grouplens.org/about/what-is-grouplens/) para: **\"avanzar la teoría y la práctica de la computación social mediante la construcción y la comprensión de sistemas *(de recomendación)* utilizados por personas reales\".**\n",
    "\n",
    "Carguemos entonces las librerías y los datos:\n"
   ]
  },
  {
   "cell_type": "code",
   "execution_count": null,
   "metadata": {},
   "outputs": [
    {
     "data": {
      "text/html": [
       "<div>\n",
       "<style scoped>\n",
       "    .dataframe tbody tr th:only-of-type {\n",
       "        vertical-align: middle;\n",
       "    }\n",
       "\n",
       "    .dataframe tbody tr th {\n",
       "        vertical-align: top;\n",
       "    }\n",
       "\n",
       "    .dataframe thead th {\n",
       "        text-align: right;\n",
       "    }\n",
       "</style>\n",
       "<table border=\"1\" class=\"dataframe\">\n",
       "  <thead>\n",
       "    <tr style=\"text-align: right;\">\n",
       "      <th></th>\n",
       "      <th>Unnamed: 0</th>\n",
       "      <th>titulo</th>\n",
       "      <th>duracion</th>\n",
       "      <th>voto_promedio</th>\n",
       "      <th>numero_votos</th>\n",
       "      <th>ano</th>\n",
       "      <th>genero</th>\n",
       "    </tr>\n",
       "  </thead>\n",
       "  <tbody>\n",
       "    <tr>\n",
       "      <th>0</th>\n",
       "      <td>1</td>\n",
       "      <td>Toy Story</td>\n",
       "      <td>81</td>\n",
       "      <td>7.7</td>\n",
       "      <td>5415</td>\n",
       "      <td>1995</td>\n",
       "      <td>animacion</td>\n",
       "    </tr>\n",
       "    <tr>\n",
       "      <th>1</th>\n",
       "      <td>2</td>\n",
       "      <td>Toy Story</td>\n",
       "      <td>81</td>\n",
       "      <td>7.7</td>\n",
       "      <td>5415</td>\n",
       "      <td>1995</td>\n",
       "      <td>comedia</td>\n",
       "    </tr>\n",
       "    <tr>\n",
       "      <th>2</th>\n",
       "      <td>3</td>\n",
       "      <td>Jumanji</td>\n",
       "      <td>104</td>\n",
       "      <td>6.9</td>\n",
       "      <td>2413</td>\n",
       "      <td>1995</td>\n",
       "      <td>adventura</td>\n",
       "    </tr>\n",
       "    <tr>\n",
       "      <th>3</th>\n",
       "      <td>4</td>\n",
       "      <td>Jumanji</td>\n",
       "      <td>104</td>\n",
       "      <td>6.9</td>\n",
       "      <td>2413</td>\n",
       "      <td>1995</td>\n",
       "      <td>fantasia</td>\n",
       "    </tr>\n",
       "    <tr>\n",
       "      <th>4</th>\n",
       "      <td>5</td>\n",
       "      <td>Grumpier Old Men</td>\n",
       "      <td>101</td>\n",
       "      <td>6.5</td>\n",
       "      <td>92</td>\n",
       "      <td>1995</td>\n",
       "      <td>romance</td>\n",
       "    </tr>\n",
       "  </tbody>\n",
       "</table>\n",
       "</div>"
      ],
      "text/plain": [
       "   Unnamed: 0            titulo  duracion  voto_promedio  numero_votos   ano  \\\n",
       "0           1         Toy Story        81            7.7          5415  1995   \n",
       "1           2         Toy Story        81            7.7          5415  1995   \n",
       "2           3           Jumanji       104            6.9          2413  1995   \n",
       "3           4           Jumanji       104            6.9          2413  1995   \n",
       "4           5  Grumpier Old Men       101            6.5            92  1995   \n",
       "\n",
       "      genero  \n",
       "0  animacion  \n",
       "1    comedia  \n",
       "2  adventura  \n",
       "3   fantasia  \n",
       "4    romance  "
      ]
     },
     "execution_count": 1,
     "metadata": {},
     "output_type": "execute_result"
    }
   ],
   "source": [
    "# Cargamos las librerías a utilizar\n",
    "import pandas as pd\n",
    "import numpy as np\n",
    "\n",
    "# Cargamos y visualizamos las primeras filas de los datos\n",
    "df = pd.read_csv('data/metadata_limpia.csv')\n",
    "df.head()"
   ]
  },
  {
   "cell_type": "markdown",
   "metadata": {},
   "source": [
    "La base contiene el título, la duración (en minutos), el voto promedio y el número de votos que obtuvo, el año de estreno, y el género. Note que si una película tiene más de un género aparece repetida. Por ejemplo, Toy Story, aparece bajo el género de animación y de comedia.\n",
    "\n",
    "Para esta aplicación omitiremos el género y por lo tanto nos quedaremos con sólo una entrada por película (los invito a que prueben si los resultados cambian o no al no omitir las entradas repetidas):"
   ]
  },
  {
   "cell_type": "code",
   "execution_count": null,
   "metadata": {},
   "outputs": [
    {
     "data": {
      "text/html": [
       "<div>\n",
       "<style scoped>\n",
       "    .dataframe tbody tr th:only-of-type {\n",
       "        vertical-align: middle;\n",
       "    }\n",
       "\n",
       "    .dataframe tbody tr th {\n",
       "        vertical-align: top;\n",
       "    }\n",
       "\n",
       "    .dataframe thead th {\n",
       "        text-align: right;\n",
       "    }\n",
       "</style>\n",
       "<table border=\"1\" class=\"dataframe\">\n",
       "  <thead>\n",
       "    <tr style=\"text-align: right;\">\n",
       "      <th></th>\n",
       "      <th>Unnamed: 0</th>\n",
       "      <th>titulo</th>\n",
       "      <th>duracion</th>\n",
       "      <th>voto_promedio</th>\n",
       "      <th>numero_votos</th>\n",
       "      <th>ano</th>\n",
       "      <th>genero</th>\n",
       "    </tr>\n",
       "  </thead>\n",
       "  <tbody>\n",
       "    <tr>\n",
       "      <th>0</th>\n",
       "      <td>1</td>\n",
       "      <td>Toy Story</td>\n",
       "      <td>81</td>\n",
       "      <td>7.7</td>\n",
       "      <td>5415</td>\n",
       "      <td>1995</td>\n",
       "      <td>animacion</td>\n",
       "    </tr>\n",
       "    <tr>\n",
       "      <th>2</th>\n",
       "      <td>3</td>\n",
       "      <td>Jumanji</td>\n",
       "      <td>104</td>\n",
       "      <td>6.9</td>\n",
       "      <td>2413</td>\n",
       "      <td>1995</td>\n",
       "      <td>adventura</td>\n",
       "    </tr>\n",
       "    <tr>\n",
       "      <th>4</th>\n",
       "      <td>5</td>\n",
       "      <td>Grumpier Old Men</td>\n",
       "      <td>101</td>\n",
       "      <td>6.5</td>\n",
       "      <td>92</td>\n",
       "      <td>1995</td>\n",
       "      <td>romance</td>\n",
       "    </tr>\n",
       "    <tr>\n",
       "      <th>6</th>\n",
       "      <td>7</td>\n",
       "      <td>Waiting to Exhale</td>\n",
       "      <td>127</td>\n",
       "      <td>6.1</td>\n",
       "      <td>34</td>\n",
       "      <td>1995</td>\n",
       "      <td>comedia</td>\n",
       "    </tr>\n",
       "    <tr>\n",
       "      <th>9</th>\n",
       "      <td>10</td>\n",
       "      <td>Father of the Bride Part II</td>\n",
       "      <td>106</td>\n",
       "      <td>5.7</td>\n",
       "      <td>173</td>\n",
       "      <td>1995</td>\n",
       "      <td>comedia</td>\n",
       "    </tr>\n",
       "    <tr>\n",
       "      <th>...</th>\n",
       "      <td>...</td>\n",
       "      <td>...</td>\n",
       "      <td>...</td>\n",
       "      <td>...</td>\n",
       "      <td>...</td>\n",
       "      <td>...</td>\n",
       "      <td>...</td>\n",
       "    </tr>\n",
       "    <tr>\n",
       "      <th>64928</th>\n",
       "      <td>64929</td>\n",
       "      <td>Deep Hearts</td>\n",
       "      <td>58</td>\n",
       "      <td>0.0</td>\n",
       "      <td>0</td>\n",
       "      <td>1981</td>\n",
       "      <td>documental</td>\n",
       "    </tr>\n",
       "    <tr>\n",
       "      <th>64933</th>\n",
       "      <td>64934</td>\n",
       "      <td>Shadow of the Blair Witch</td>\n",
       "      <td>45</td>\n",
       "      <td>7.0</td>\n",
       "      <td>2</td>\n",
       "      <td>2000</td>\n",
       "      <td>misterio</td>\n",
       "    </tr>\n",
       "    <tr>\n",
       "      <th>64935</th>\n",
       "      <td>64936</td>\n",
       "      <td>The Burkittsville 7</td>\n",
       "      <td>30</td>\n",
       "      <td>7.0</td>\n",
       "      <td>1</td>\n",
       "      <td>2000</td>\n",
       "      <td>terror</td>\n",
       "    </tr>\n",
       "    <tr>\n",
       "      <th>64936</th>\n",
       "      <td>64937</td>\n",
       "      <td>Caged Heat 3000</td>\n",
       "      <td>85</td>\n",
       "      <td>3.5</td>\n",
       "      <td>1</td>\n",
       "      <td>1995</td>\n",
       "      <td>ciencia ficcion</td>\n",
       "    </tr>\n",
       "    <tr>\n",
       "      <th>64940</th>\n",
       "      <td>64941</td>\n",
       "      <td>Century of Birthing</td>\n",
       "      <td>360</td>\n",
       "      <td>9.0</td>\n",
       "      <td>3</td>\n",
       "      <td>2011</td>\n",
       "      <td>drama</td>\n",
       "    </tr>\n",
       "  </tbody>\n",
       "</table>\n",
       "<p>32514 rows × 7 columns</p>\n",
       "</div>"
      ],
      "text/plain": [
       "       Unnamed: 0                       titulo  duracion  voto_promedio  \\\n",
       "0               1                    Toy Story        81            7.7   \n",
       "2               3                      Jumanji       104            6.9   \n",
       "4               5             Grumpier Old Men       101            6.5   \n",
       "6               7            Waiting to Exhale       127            6.1   \n",
       "9              10  Father of the Bride Part II       106            5.7   \n",
       "...           ...                          ...       ...            ...   \n",
       "64928       64929                  Deep Hearts        58            0.0   \n",
       "64933       64934    Shadow of the Blair Witch        45            7.0   \n",
       "64935       64936          The Burkittsville 7        30            7.0   \n",
       "64936       64937              Caged Heat 3000        85            3.5   \n",
       "64940       64941          Century of Birthing       360            9.0   \n",
       "\n",
       "       numero_votos   ano           genero  \n",
       "0              5415  1995        animacion  \n",
       "2              2413  1995        adventura  \n",
       "4                92  1995          romance  \n",
       "6                34  1995          comedia  \n",
       "9               173  1995          comedia  \n",
       "...             ...   ...              ...  \n",
       "64928             0  1981       documental  \n",
       "64933             2  2000         misterio  \n",
       "64935             1  2000           terror  \n",
       "64936             1  1995  ciencia ficcion  \n",
       "64940             3  2011            drama  \n",
       "\n",
       "[32514 rows x 7 columns]"
      ]
     },
     "execution_count": 2,
     "metadata": {},
     "output_type": "execute_result"
    }
   ],
   "source": [
    "df_nodup = df.drop_duplicates(subset =\"titulo\")\n",
    "df_nodup"
   ]
  },
  {
   "cell_type": "markdown",
   "metadata": {},
   "source": [
    "La columna `voto_promedio` es el promedio de votos que dieron los usuarios a la película. Este voto toma valores  entre 1 y 10, siendo 10 el voto más alto. La columna `numero_votos` es el número de votos que recibió la película. Este sirve también como una proxy de cuanta gente vió la película.\n",
    "\n",
    "Estamos ahora en condiciones de construir nuestro primer recomendador simple."
   ]
  },
  {
   "cell_type": "markdown",
   "metadata": {},
   "source": [
    "#### Un recomendador simple \n",
    "\n",
    "Para construir nuestro primer recomendador simple vamos a seguir los siguientes pasos: \n",
    "\n",
    "   1. Decidir cuáles son los atributos deseados de la película que queremos recomendar. Esto nos va a permitir reducir el espacio de candidatos potenciales.\n",
    "   2. Elegir una métrica que nos permita calificar y rankear las películas y calcularla para nuestro subconjunto.\n",
    "   3. Recomendar películas basadas en esta métrica en orden decreciente de sus puntajes.\n",
    "\n",
    "\n",
    "La parte crucial de este recomendador es el segundo punto. Generar una métrica que nos permita ordenar las películas. La elección de esta es arbitraria, sin embargo es deseable que esta métrica sea robusta. Por ejemplo, podríamos usar el voto promedio. Sin embargo, sabemos que la media no es una medida robusta. Para illustrarlo, imaginemos que tenemos una película con calificación promedio de 9 por 100.000 usuarios, esta se colocará debajo de una película con una calificación promedio de 9,5 por 100 usuarios. Esto no es deseable, ya que es muy probable que una película vista y calificada sólo por 100 personas atienda a un nicho muy específico y puede que no atraiga tanto al individuo promedio como la primera. Otra de las desventajas de la media es que no es robusta a la micronumerosidad, es decir, que tenga pocos votos. A medida que el número de votos aumente, es probable que este se acerque al verdadero valor poblacional. Es decir, una película calificada con 10/10 por cinco usuarios no significa necesariamente que sea una buena película.\n",
    "\n",
    "Por lo tanto, necesitamos una métrica que pueda sobreponerse a estas falencias, de forma tal que, por ejemplo, rankee una película de gran éxito con una calificación de 8 por 100.000 usuarios sobre una película con una calificación de 9 por 100 usuarios.\n",
    "\n",
    "En este *cuaderno* vamos a utilizar la métrica propuesta por [IMDB](https://www.imdb.com/chart/top/?ref_=nv_mv_250) para rankear las mejores 250 películas. Esta métrica sigue la siguiente fórmula:\n",
    "\n",
    "$$\n",
    "Score = \\left( \\frac{v}{v+m}\\times R + \\frac{v}{v+m}\\times C \\right)\n",
    "$$\n",
    "\n",
    "\n",
    "donde: \n",
    "\n",
    "   - $v$ es el número de votos.\n",
    "   - $m$ es el mínimo número de votos que tiene que haber recibido una pelicula para que figure en el ranking.\n",
    "   - $R$ es el voto promedio de la película\n",
    "   - $C$ es el voto promedio de *todas* la peliculas en la base.\n",
    "    \n",
    "##### Creando el recomendador\n",
    "\n",
    "Tenemos entonces todos los ingredientes para crear nuestro recomendador. Comencemos calculando el $Score$. Notemos que tiene como parámetro $m$. En nuestra aplicación lo fijaremos en el percentil 95 (los invito a que lo cambien y prueben cómo cambian las recomendaciones). \n",
    "\n",
    "Calculamos entonces el parámetro $m$:"
   ]
  },
  {
   "cell_type": "code",
   "execution_count": 3,
   "metadata": {},
   "outputs": [
    {
     "data": {
      "text/plain": [
       "590.0"
      ]
     },
     "execution_count": 3,
     "metadata": {},
     "output_type": "execute_result"
    }
   ],
   "source": [
    "m = df_nodup['numero_votos'].quantile(0.95)\n",
    "m"
   ]
  },
  {
   "cell_type": "markdown",
   "metadata": {},
   "source": [
    "Con esto podemos ver  cuáles son las que superaron el mínimo número de votos que tiene que haber recibido una película para que figure en el ranking:"
   ]
  },
  {
   "cell_type": "code",
   "execution_count": 4,
   "metadata": {},
   "outputs": [
    {
     "data": {
      "text/html": [
       "<div>\n",
       "<style scoped>\n",
       "    .dataframe tbody tr th:only-of-type {\n",
       "        vertical-align: middle;\n",
       "    }\n",
       "\n",
       "    .dataframe tbody tr th {\n",
       "        vertical-align: top;\n",
       "    }\n",
       "\n",
       "    .dataframe thead th {\n",
       "        text-align: right;\n",
       "    }\n",
       "</style>\n",
       "<table border=\"1\" class=\"dataframe\">\n",
       "  <thead>\n",
       "    <tr style=\"text-align: right;\">\n",
       "      <th></th>\n",
       "      <th>Unnamed: 0</th>\n",
       "      <th>titulo</th>\n",
       "      <th>duracion</th>\n",
       "      <th>voto_promedio</th>\n",
       "      <th>numero_votos</th>\n",
       "      <th>ano</th>\n",
       "      <th>genero</th>\n",
       "    </tr>\n",
       "  </thead>\n",
       "  <tbody>\n",
       "    <tr>\n",
       "      <th>0</th>\n",
       "      <td>1</td>\n",
       "      <td>Toy Story</td>\n",
       "      <td>81</td>\n",
       "      <td>7.7</td>\n",
       "      <td>5415</td>\n",
       "      <td>1995</td>\n",
       "      <td>animacion</td>\n",
       "    </tr>\n",
       "    <tr>\n",
       "      <th>2</th>\n",
       "      <td>3</td>\n",
       "      <td>Jumanji</td>\n",
       "      <td>104</td>\n",
       "      <td>6.9</td>\n",
       "      <td>2413</td>\n",
       "      <td>1995</td>\n",
       "      <td>adventura</td>\n",
       "    </tr>\n",
       "    <tr>\n",
       "      <th>10</th>\n",
       "      <td>11</td>\n",
       "      <td>Heat</td>\n",
       "      <td>170</td>\n",
       "      <td>7.7</td>\n",
       "      <td>1886</td>\n",
       "      <td>1995</td>\n",
       "      <td>accion</td>\n",
       "    </tr>\n",
       "    <tr>\n",
       "      <th>21</th>\n",
       "      <td>22</td>\n",
       "      <td>GoldenEye</td>\n",
       "      <td>130</td>\n",
       "      <td>6.6</td>\n",
       "      <td>1194</td>\n",
       "      <td>1995</td>\n",
       "      <td>adventura</td>\n",
       "    </tr>\n",
       "    <tr>\n",
       "      <th>34</th>\n",
       "      <td>35</td>\n",
       "      <td>Casino</td>\n",
       "      <td>178</td>\n",
       "      <td>7.8</td>\n",
       "      <td>1343</td>\n",
       "      <td>1995</td>\n",
       "      <td>drama</td>\n",
       "    </tr>\n",
       "  </tbody>\n",
       "</table>\n",
       "</div>"
      ],
      "text/plain": [
       "    Unnamed: 0     titulo  duracion  voto_promedio  numero_votos   ano  \\\n",
       "0            1  Toy Story        81            7.7          5415  1995   \n",
       "2            3    Jumanji       104            6.9          2413  1995   \n",
       "10          11       Heat       170            7.7          1886  1995   \n",
       "21          22  GoldenEye       130            6.6          1194  1995   \n",
       "34          35     Casino       178            7.8          1343  1995   \n",
       "\n",
       "       genero  \n",
       "0   animacion  \n",
       "2   adventura  \n",
       "10     accion  \n",
       "21  adventura  \n",
       "34      drama  "
      ]
     },
     "execution_count": 4,
     "metadata": {},
     "output_type": "execute_result"
    }
   ],
   "source": [
    "q_movies = df_nodup[df_nodup['numero_votos'] >= m]\n",
    "\n",
    "q_movies.head()"
   ]
  },
  {
   "cell_type": "code",
   "execution_count": 5,
   "metadata": {},
   "outputs": [
    {
     "data": {
      "text/plain": [
       "(1627, 7)"
      ]
     },
     "execution_count": 5,
     "metadata": {},
     "output_type": "execute_result"
    }
   ],
   "source": [
    "q_movies.shape"
   ]
  },
  {
   "cell_type": "markdown",
   "metadata": {},
   "source": [
    "Vemos que nos quedamos con aproximadamente el 10%, como esperábamos. Calculemos  $C$, la calificación promedio de todas las películas en el conjunto de datos:"
   ]
  },
  {
   "cell_type": "code",
   "execution_count": 6,
   "metadata": {},
   "outputs": [
    {
     "data": {
      "text/plain": [
       "5.725672018207382"
      ]
     },
     "execution_count": 6,
     "metadata": {},
     "output_type": "execute_result"
    }
   ],
   "source": [
    "C = df_nodup['voto_promedio'].mean()\n",
    "C"
   ]
  },
  {
   "cell_type": "markdown",
   "metadata": {},
   "source": [
    "Con esto podemos calcular entonces nuestro $Score# para cada película. Para ello crearemos una función:"
   ]
  },
  {
   "cell_type": "code",
   "execution_count": 7,
   "metadata": {},
   "outputs": [],
   "source": [
    "def calc_score(x, m=m, C=C):\n",
    "    v = x['numero_votos']\n",
    "    R = x['voto_promedio']\n",
    "    # Calcular el score\n",
    "    return (v/(v+m) * R) + (m/(m+v) * C)"
   ]
  },
  {
   "cell_type": "markdown",
   "metadata": {},
   "source": [
    "Y aplicaremos la función, indicando que la operación es por filas (`axis=1`): "
   ]
  },
  {
   "cell_type": "code",
   "execution_count": 8,
   "metadata": {},
   "outputs": [
    {
     "name": "stderr",
     "output_type": "stream",
     "text": [
      "/var/folders/lp/bhbhb__n1_z91_rjfqljxcdc0000gn/T/ipykernel_37866/848572970.py:1: SettingWithCopyWarning: \n",
      "A value is trying to be set on a copy of a slice from a DataFrame.\n",
      "Try using .loc[row_indexer,col_indexer] = value instead\n",
      "\n",
      "See the caveats in the documentation: https://pandas.pydata.org/pandas-docs/stable/user_guide/indexing.html#returning-a-view-versus-a-copy\n",
      "  q_movies['score'] = q_movies.apply(calc_score, axis=1)\n"
     ]
    }
   ],
   "source": [
    "q_movies['score'] = q_movies.apply(calc_score, axis=1)"
   ]
  },
  {
   "cell_type": "markdown",
   "metadata": {},
   "source": [
    "El último paso para recomendar las películas es ordenarlas y mostrarlas al usuario:\n"
   ]
  },
  {
   "cell_type": "code",
   "execution_count": 9,
   "metadata": {},
   "outputs": [
    {
     "data": {
      "text/html": [
       "<div>\n",
       "<style scoped>\n",
       "    .dataframe tbody tr th:only-of-type {\n",
       "        vertical-align: middle;\n",
       "    }\n",
       "\n",
       "    .dataframe tbody tr th {\n",
       "        vertical-align: top;\n",
       "    }\n",
       "\n",
       "    .dataframe thead th {\n",
       "        text-align: right;\n",
       "    }\n",
       "</style>\n",
       "<table border=\"1\" class=\"dataframe\">\n",
       "  <thead>\n",
       "    <tr style=\"text-align: right;\">\n",
       "      <th></th>\n",
       "      <th>Unnamed: 0</th>\n",
       "      <th>titulo</th>\n",
       "      <th>duracion</th>\n",
       "      <th>voto_promedio</th>\n",
       "      <th>numero_votos</th>\n",
       "      <th>ano</th>\n",
       "      <th>genero</th>\n",
       "      <th>score</th>\n",
       "    </tr>\n",
       "  </thead>\n",
       "  <tbody>\n",
       "    <tr>\n",
       "      <th>644</th>\n",
       "      <td>645</td>\n",
       "      <td>The Shawshank Redemption</td>\n",
       "      <td>142</td>\n",
       "      <td>8.5</td>\n",
       "      <td>8358</td>\n",
       "      <td>1994</td>\n",
       "      <td>drama</td>\n",
       "      <td>8.317070</td>\n",
       "    </tr>\n",
       "    <tr>\n",
       "      <th>1682</th>\n",
       "      <td>1683</td>\n",
       "      <td>The Godfather</td>\n",
       "      <td>175</td>\n",
       "      <td>8.5</td>\n",
       "      <td>6024</td>\n",
       "      <td>1972</td>\n",
       "      <td>drama</td>\n",
       "      <td>8.252517</td>\n",
       "    </tr>\n",
       "    <tr>\n",
       "      <th>20733</th>\n",
       "      <td>20734</td>\n",
       "      <td>The Dark Knight</td>\n",
       "      <td>152</td>\n",
       "      <td>8.3</td>\n",
       "      <td>12269</td>\n",
       "      <td>2008</td>\n",
       "      <td>drama</td>\n",
       "      <td>8.181884</td>\n",
       "    </tr>\n",
       "    <tr>\n",
       "      <th>5158</th>\n",
       "      <td>5159</td>\n",
       "      <td>Fight Club</td>\n",
       "      <td>139</td>\n",
       "      <td>8.3</td>\n",
       "      <td>9678</td>\n",
       "      <td>1999</td>\n",
       "      <td>drama</td>\n",
       "      <td>8.152079</td>\n",
       "    </tr>\n",
       "    <tr>\n",
       "      <th>603</th>\n",
       "      <td>604</td>\n",
       "      <td>Pulp Fiction</td>\n",
       "      <td>154</td>\n",
       "      <td>8.3</td>\n",
       "      <td>8670</td>\n",
       "      <td>1994</td>\n",
       "      <td>suspenso</td>\n",
       "      <td>8.135977</td>\n",
       "    </tr>\n",
       "    <tr>\n",
       "      <th>727</th>\n",
       "      <td>728</td>\n",
       "      <td>Forrest Gump</td>\n",
       "      <td>142</td>\n",
       "      <td>8.2</td>\n",
       "      <td>8147</td>\n",
       "      <td>1994</td>\n",
       "      <td>comedia</td>\n",
       "      <td>8.032911</td>\n",
       "    </tr>\n",
       "    <tr>\n",
       "      <th>25272</th>\n",
       "      <td>25273</td>\n",
       "      <td>Inception</td>\n",
       "      <td>148</td>\n",
       "      <td>8.1</td>\n",
       "      <td>14075</td>\n",
       "      <td>2010</td>\n",
       "      <td>accion</td>\n",
       "      <td>8.004476</td>\n",
       "    </tr>\n",
       "    <tr>\n",
       "      <th>1093</th>\n",
       "      <td>1094</td>\n",
       "      <td>Schindler's List</td>\n",
       "      <td>195</td>\n",
       "      <td>8.3</td>\n",
       "      <td>4436</td>\n",
       "      <td>1993</td>\n",
       "      <td>drama</td>\n",
       "      <td>7.997801</td>\n",
       "    </tr>\n",
       "    <tr>\n",
       "      <th>36397</th>\n",
       "      <td>36398</td>\n",
       "      <td>Whiplash</td>\n",
       "      <td>105</td>\n",
       "      <td>8.3</td>\n",
       "      <td>4376</td>\n",
       "      <td>2014</td>\n",
       "      <td>drama</td>\n",
       "      <td>7.994150</td>\n",
       "    </tr>\n",
       "    <tr>\n",
       "      <th>35323</th>\n",
       "      <td>35324</td>\n",
       "      <td>Interstellar</td>\n",
       "      <td>169</td>\n",
       "      <td>8.1</td>\n",
       "      <td>11187</td>\n",
       "      <td>2014</td>\n",
       "      <td>adventura</td>\n",
       "      <td>7.981052</td>\n",
       "    </tr>\n",
       "  </tbody>\n",
       "</table>\n",
       "</div>"
      ],
      "text/plain": [
       "       Unnamed: 0                    titulo  duracion  voto_promedio  \\\n",
       "644           645  The Shawshank Redemption       142            8.5   \n",
       "1682         1683             The Godfather       175            8.5   \n",
       "20733       20734           The Dark Knight       152            8.3   \n",
       "5158         5159                Fight Club       139            8.3   \n",
       "603           604              Pulp Fiction       154            8.3   \n",
       "727           728              Forrest Gump       142            8.2   \n",
       "25272       25273                 Inception       148            8.1   \n",
       "1093         1094          Schindler's List       195            8.3   \n",
       "36397       36398                  Whiplash       105            8.3   \n",
       "35323       35324              Interstellar       169            8.1   \n",
       "\n",
       "       numero_votos   ano     genero     score  \n",
       "644            8358  1994      drama  8.317070  \n",
       "1682           6024  1972      drama  8.252517  \n",
       "20733         12269  2008      drama  8.181884  \n",
       "5158           9678  1999      drama  8.152079  \n",
       "603            8670  1994   suspenso  8.135977  \n",
       "727            8147  1994    comedia  8.032911  \n",
       "25272         14075  2010     accion  8.004476  \n",
       "1093           4436  1993      drama  7.997801  \n",
       "36397          4376  2014      drama  7.994150  \n",
       "35323         11187  2014  adventura  7.981052  "
      ]
     },
     "execution_count": 9,
     "metadata": {},
     "output_type": "execute_result"
    }
   ],
   "source": [
    "# Ordenamos\n",
    "q_movies = q_movies.sort_values('score', ascending=False)\n",
    "\n",
    "# Mostramos el top 10\n",
    "q_movies.head(10)"
   ]
  },
  {
   "cell_type": "markdown",
   "metadata": {},
   "source": [
    "Notemos que nuestra recomendaciónseñala el mismo top 3 que IMDB (*$^*$imagen tomada el 28 de Abril de 2022)*:"
   ]
  },
  {
   "cell_type": "markdown",
   "metadata": {},
   "source": [
    "<div  style=\"max-width: 60%;\">\n",
    "<img src = \"figs/IMDB.png\"/>\n",
    "</div>\n"
   ]
  },
  {
   "cell_type": "markdown",
   "metadata": {},
   "source": [
    "En el top figura [The Shawshank Redemption](https://es.wikipedia.org/wiki/The_Shawshank_Redemption) que fue estrenada como \"Sueño de fuga\" en Hispanoamérica y como \"Sueños de libertad\" o \"Escape a la libertad\" en Argentina.\n",
    "\n",
    "Nuestro simple recomendador genera recomendaciones sencillas pero no muy personalizadas. Veamos entonces otro sistema que nos permita recomendar sugerencias más personalizadas."
   ]
  },
  {
   "cell_type": "markdown",
   "metadata": {},
   "source": [
    "### Un  recomendador basado en conocimiento "
   ]
  },
  {
   "cell_type": "markdown",
   "metadata": {},
   "source": [
    "Construyamos entonces ahora un recomendador que incorpore preferencias de los usuarios. Para ello seguimos utilizando la bsase anterior y lo que el recomendadro hará es:\n",
    "\n",
    "1. Preguntar al usuario por el género de película que está buscando.\n",
    "2. Preguntar al usuario por la duración.\n",
    "3. Preguntar al usuario por el rango de año de estreno de la película.\n",
    "4. Con esta información recomendará la película con el $Score$ más alto."
   ]
  },
  {
   "cell_type": "markdown",
   "metadata": {},
   "source": [
    "Veamos entonces cuáles son los géneros disponibles:"
   ]
  },
  {
   "cell_type": "code",
   "execution_count": 10,
   "metadata": {},
   "outputs": [
    {
     "data": {
      "text/plain": [
       "drama              15909\n",
       "comedia            10752\n",
       "suspenso            6718\n",
       "accion              5634\n",
       "romance             5003\n",
       "terror              4098\n",
       "documental          3659\n",
       "adventura           2727\n",
       "ciencia ficcion     2612\n",
       "fantasia            1924\n",
       "misterio            1919\n",
       "animacion           1710\n",
       "musical             1121\n",
       "guerra               760\n",
       "western              398\n",
       "Name: genero, dtype: int64"
      ]
     },
     "execution_count": 10,
     "metadata": {},
     "output_type": "execute_result"
    }
   ],
   "source": [
    "df['genero'].value_counts()"
   ]
  },
  {
   "cell_type": "markdown",
   "metadata": {},
   "source": [
    "y los años disponibles:"
   ]
  },
  {
   "cell_type": "code",
   "execution_count": 11,
   "metadata": {},
   "outputs": [
    {
     "data": {
      "text/plain": [
       "2015    3244\n",
       "2014    3236\n",
       "2013    2994\n",
       "2009    2976\n",
       "2011    2861\n",
       "2010    2705\n",
       "2016    2669\n",
       "2008    2666\n",
       "2012    2663\n",
       "2007    2377\n",
       "2006    2348\n",
       "2005    2030\n",
       "2004    1821\n",
       "2002    1717\n",
       "2003    1626\n",
       "2001    1593\n",
       "2000    1442\n",
       "1998    1297\n",
       "1999    1289\n",
       "1997    1205\n",
       "1996    1156\n",
       "1995    1095\n",
       "1994    1005\n",
       "2017     956\n",
       "1993     937\n",
       "1988     899\n",
       "1987     849\n",
       "1989     841\n",
       "1992     837\n",
       "1990     807\n",
       "1991     802\n",
       "1985     712\n",
       "1986     694\n",
       "1984     684\n",
       "1983     664\n",
       "1982     657\n",
       "1981     647\n",
       "1980     645\n",
       "1972     628\n",
       "1971     621\n",
       "1973     621\n",
       "1974     583\n",
       "1979     578\n",
       "1977     572\n",
       "1978     568\n",
       "1975     566\n",
       "1976     546\n",
       "2018      11\n",
       "2020       4\n",
       "Name: ano, dtype: int64"
      ]
     },
     "execution_count": 11,
     "metadata": {},
     "output_type": "execute_result"
    }
   ],
   "source": [
    "df['ano'].value_counts()"
   ]
  },
  {
   "cell_type": "markdown",
   "metadata": {},
   "source": [
    "Construyamos entonces una función que nos pregunte por nuestras preferencias y que nos genere las recomendaciones. En otras palabras, estos son los tres pasos principales de la función:\n",
    "\n",
    "   1. Obtener información del usuario sobre sus preferencias.\n",
    "   2. Filtrar las películas que coincidan con las condiciones establecidas por el usuario.\n",
    "   3. Calcular los valores de m y C.\n",
    "   4. Retornar las sugerencias.\n",
    "\n",
    "Llamaremos a la función `recomendador` y tendrá 2 parámetros: la base de datos sobre la que construye la recomendaciones y el percentil ($m$). Utilizaremos por ahora el mismo $m=.95$ del ejemplo anterior:"
   ]
  },
  {
   "cell_type": "code",
   "execution_count": 12,
   "metadata": {},
   "outputs": [],
   "source": [
    "def recomendador(db, percentile=0.95):\n",
    "    # Preguntar por los géneros preferidos\n",
    "    print(\"Hola este es tu sistema de recomendación\")\n",
    "    print(\"Te voy a hacer unas preguntas para generar sugerencias\")\n",
    "    print(\"¿Qué género de película querés ver?\")\n",
    "    genre = input()\n",
    "    \n",
    "    # Preguntar por la duración mínima de la película\n",
    "    print(\"¿Cuál es la duración mínima que querés? (en minutos)\")\n",
    "    low_time = int(input())\n",
    "    \n",
    "    # Preguntar por la duración máxima de la película\n",
    "    print(\"¿Cuál es la duración máxima que querés? (en minutos)\")\n",
    "    high_time = int(input())\n",
    "\n",
    "        # Preguntar por el rango de los años en que la película fue estrenada\n",
    "    print(\"Ahora te voy a preguntar por el rango de años de estreno de la película\")\n",
    "\n",
    "    print(\"¿Cuál es el año de estreno más viejo que querés ver? \")\n",
    "    low_year = int(input())\n",
    "    \n",
    "    print(\"¿Cuál es el año de estreno más nuevo que querés ver? \")\n",
    "    high_year = int(input())\n",
    "    \n",
    "\n",
    "    # Definimos una nueva variable que va a guardar las películas preferidas, para ello copiamos los contenidos de la bas\n",
    "    movies = db.copy()\n",
    "    \n",
    "    # Filtramos basado en las respuestas\n",
    "    movies = movies[(movies['genero'] == genre) & \n",
    "                    (movies['duracion'] >= low_time) & \n",
    "                    (movies['duracion'] <= high_time) & \n",
    "                    (movies['ano'] >= low_year) & \n",
    "                    (movies['ano'] <= high_year)]\n",
    "    \n",
    "    # Calculamos los valores de C y m\n",
    "    C = movies['voto_promedio'].mean()\n",
    "    m = movies['numero_votos'].quantile(percentile)\n",
    "    \n",
    "\n",
    "    # Consideramos sólo películas que tienen más de m votos, y las guardamos en un data.frame\n",
    "    q_movies = movies.copy().loc[movies['numero_votos'] >= m]\n",
    "    \n",
    "    # Calculamos el score usando la  formula de IMDB\n",
    "    q_movies['score'] = q_movies.apply(lambda x: (x['numero_votos']/(x['numero_votos']+m) * x['voto_promedio']) \n",
    "                                       + (m/(m+x['numero_votos']) * C)\n",
    "                                       ,axis=1)\n",
    "\n",
    "    # Ordenamos las películas en orden descendiente de su score\n",
    "    q_movies = q_movies.sort_values('score', ascending=False)\n",
    "    \n",
    "    return q_movies"
   ]
  },
  {
   "cell_type": "markdown",
   "metadata": {},
   "source": [
    "Utilicemos entonces esta función para generar recomendaciones de películas de drama de entre media y 2 horas de duración que fueron estrenadas entre 1990 y 2005:"
   ]
  },
  {
   "cell_type": "code",
   "execution_count": 13,
   "metadata": {},
   "outputs": [
    {
     "name": "stdout",
     "output_type": "stream",
     "text": [
      "Hola este es tu sistema de recomendación\n",
      "Te voy a hacer unas preguntas para generar sugerencias\n",
      "¿Qué género de película querés ver?\n",
      "drama\n",
      "¿Cuál es la duración mínima que querés? (en minutos)\n",
      "30\n",
      "¿Cuál es la duración máxima que querés? (en minutos)\n",
      "120\n",
      "Ahora te voy a preguntar por el rango de años de estreno de la película\n",
      "¿Cuál es el año de estreno más viejo que querés ver? \n",
      "1990\n",
      "¿Cuál es el año de estreno más nuevo que querés ver? \n",
      "2005\n"
     ]
    },
    {
     "data": {
      "text/html": [
       "<div>\n",
       "<style scoped>\n",
       "    .dataframe tbody tr th:only-of-type {\n",
       "        vertical-align: middle;\n",
       "    }\n",
       "\n",
       "    .dataframe tbody tr th {\n",
       "        vertical-align: top;\n",
       "    }\n",
       "\n",
       "    .dataframe thead th {\n",
       "        text-align: right;\n",
       "    }\n",
       "</style>\n",
       "<table border=\"1\" class=\"dataframe\">\n",
       "  <thead>\n",
       "    <tr style=\"text-align: right;\">\n",
       "      <th></th>\n",
       "      <th>Unnamed: 0</th>\n",
       "      <th>titulo</th>\n",
       "      <th>duracion</th>\n",
       "      <th>voto_promedio</th>\n",
       "      <th>numero_votos</th>\n",
       "      <th>ano</th>\n",
       "      <th>genero</th>\n",
       "      <th>score</th>\n",
       "    </tr>\n",
       "  </thead>\n",
       "  <tbody>\n",
       "    <tr>\n",
       "      <th>3992</th>\n",
       "      <td>3993</td>\n",
       "      <td>Life Is Beautiful</td>\n",
       "      <td>116</td>\n",
       "      <td>8.3</td>\n",
       "      <td>3643</td>\n",
       "      <td>1997</td>\n",
       "      <td>drama</td>\n",
       "      <td>8.109381</td>\n",
       "    </tr>\n",
       "    <tr>\n",
       "      <th>596</th>\n",
       "      <td>597</td>\n",
       "      <td>Leon: The Professional</td>\n",
       "      <td>110</td>\n",
       "      <td>8.2</td>\n",
       "      <td>4293</td>\n",
       "      <td>1994</td>\n",
       "      <td>drama</td>\n",
       "      <td>8.042907</td>\n",
       "    </tr>\n",
       "    <tr>\n",
       "      <th>4003</th>\n",
       "      <td>4004</td>\n",
       "      <td>American History X</td>\n",
       "      <td>119</td>\n",
       "      <td>8.2</td>\n",
       "      <td>3120</td>\n",
       "      <td>1998</td>\n",
       "      <td>drama</td>\n",
       "      <td>7.989047</td>\n",
       "    </tr>\n",
       "    <tr>\n",
       "      <th>1240</th>\n",
       "      <td>1241</td>\n",
       "      <td>The Silence of the Lambs</td>\n",
       "      <td>119</td>\n",
       "      <td>8.1</td>\n",
       "      <td>4549</td>\n",
       "      <td>1991</td>\n",
       "      <td>drama</td>\n",
       "      <td>7.957410</td>\n",
       "    </tr>\n",
       "    <tr>\n",
       "      <th>105</th>\n",
       "      <td>106</td>\n",
       "      <td>The Usual Suspects</td>\n",
       "      <td>106</td>\n",
       "      <td>8.1</td>\n",
       "      <td>3334</td>\n",
       "      <td>1995</td>\n",
       "      <td>drama</td>\n",
       "      <td>7.909752</td>\n",
       "    </tr>\n",
       "  </tbody>\n",
       "</table>\n",
       "</div>"
      ],
      "text/plain": [
       "      Unnamed: 0                    titulo  duracion  voto_promedio  \\\n",
       "3992        3993         Life Is Beautiful       116            8.3   \n",
       "596          597    Leon: The Professional       110            8.2   \n",
       "4003        4004        American History X       119            8.2   \n",
       "1240        1241  The Silence of the Lambs       119            8.1   \n",
       "105          106        The Usual Suspects       106            8.1   \n",
       "\n",
       "      numero_votos   ano genero     score  \n",
       "3992          3643  1997  drama  8.109381  \n",
       "596           4293  1994  drama  8.042907  \n",
       "4003          3120  1998  drama  7.989047  \n",
       "1240          4549  1991  drama  7.957410  \n",
       "105           3334  1995  drama  7.909752  "
      ]
     },
     "execution_count": 13,
     "metadata": {},
     "output_type": "execute_result"
    }
   ],
   "source": [
    "recomendador(df).head()"
   ]
  },
  {
   "cell_type": "markdown",
   "metadata": {},
   "source": [
    "Vemos que las películas retornadas por la función satisfacen todas las condiciones que ingresamos. Notemos también que dado que usamos la métrica definida por IMDB, las sugerencias son películas con altos votos promedio y también con muchos votos (películas populares). Note también que estas recomendaciones incluyen *American History X*, que es una de mis películas favoritas. Por mi parte, estaría muy satisfecho con estas sugerencias."
   ]
  },
  {
   "cell_type": "markdown",
   "metadata": {},
   "source": [
    "# Referencias\n",
    "\n",
    "- Banik, R. (2018). Hands-on recommendation systems with Python: start building powerful and personalized, recommendation engines with Python. Packt Publishing Ltd.\n",
    "\n",
    "- Covington, P., Adams, J., & Sargin, E. (2016). Deep Neural Networks for YouTube recommendations. Proceedings of the 10th ACM Conference on Recommender Systems. https://doi.org/10.1145/2959100.2959190 \n",
    "\n",
    "- Google developers. (n.d.). Recommendation systems. Google. Consultado en Abril 3, 2022, de https://developers.google.com/machine-learning/recommendation/overview "
   ]
  }
 ],
 "metadata": {
  "interpreter": {
   "hash": "fe36d3cf18f454bb22b210d1ce52ae8c21a1b2f0a9257a143474ae90bef14b60"
  },
  "kernelspec": {
   "display_name": "Python 3 (ipykernel)",
   "language": "python",
   "name": "python3"
  },
  "language_info": {
   "codemirror_mode": {
    "name": "ipython",
    "version": 3
   },
   "file_extension": ".py",
   "mimetype": "text/x-python",
   "name": "python",
   "nbconvert_exporter": "python",
   "pygments_lexer": "ipython3",
   "version": "3.9.13"
  },
  "toc": {
   "base_numbering": 1,
   "nav_menu": {},
   "number_sections": true,
   "sideBar": true,
   "skip_h1_title": false,
   "title_cell": "Table of Contents",
   "title_sidebar": "Contents",
   "toc_cell": false,
   "toc_position": {},
   "toc_section_display": true,
   "toc_window_display": false
  }
 },
 "nbformat": 4,
 "nbformat_minor": 2
}
