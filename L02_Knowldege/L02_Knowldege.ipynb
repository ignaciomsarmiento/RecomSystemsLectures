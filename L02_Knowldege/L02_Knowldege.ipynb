{
 "cells": [
  {
   "cell_type": "markdown",
   "metadata": {},
   "source": [
    "<div >\n",
    "<img src = \"../banner.png\" />\n",
    "</div>"
   ]
  },
  {
   "cell_type": "markdown",
   "metadata": {},
   "source": [
    "# Sistemas de Recomendación"
   ]
  },
  {
   "cell_type": "markdown",
   "metadata": {},
   "source": [
    "[![Open In Colab](https://colab.research.google.com/assets/colab-badge.svg)](https://colab.research.google.com/github/ignaciomsarmiento/RecomSystemsLectures/blob/main/L02_Knowldege/L02_Knowldege.ipynb)"
   ]
  },
  {
   "cell_type": "markdown",
   "metadata": {},
   "source": [
    "## ¿Qué son los sistemas de recomendaciones?\n",
    "\n",
    "\n",
    "Las preferencias de los individuos suelen seguir patrones que los sistemas de recomendación pueden aprovechar, por ejemplo,\n",
    "\n",
    "- Si te interesó:  <div style=\"max-width:200px\">\n",
    "<img src = \"figs/iron_man.jpg\" />\n",
    "</div>\n",
    "\n",
    "\n",
    "- También te puede interesar: <div style=\"max-width:200px\">\n",
    "<img src = \"figs/thor.jpg\" />\n",
    "</div> \n",
    "\n",
    "\n",
    "\n",
    "\n",
    "- Los sistemas de recomendación entonces encuentran patrones que son utilizados para predecir qué otros productos podrían gustarnos y generar sugerencias, de forma tal que  los usuarios encuentren contenido atractivo en un gran corpus. \n",
    "\n"
   ]
  },
  {
   "cell_type": "markdown",
   "metadata": {},
   "source": [
    "## Tipos de sistemas de recomendación\n",
    "\n",
    "\n",
    "\n",
    "- Recomendadores basados en conocimiento\n",
    "\n",
    "- Filtrado colaborativo\n",
    "\n",
    "- Filtrado basado en contenido\n",
    "\n",
    "- Recomendadores híbridos"
   ]
  },
  {
   "cell_type": "markdown",
   "metadata": {},
   "source": [
    "### Estructura de los sistemas de recomendación\n",
    "\n",
    "Los sistemas de recomendación constan principalmente de 2 componentes:\n",
    "\n",
    "   - Generación de candidatos\n",
    "   \n",
    "   - Ranking o Puntuación\n",
    "   "
   ]
  },
  {
   "cell_type": "markdown",
   "metadata": {},
   "source": [
    "# Python\n",
    "\n",
    "<center>\n",
    "    <img width=\"50%\" src=\"https://www.python.org/static/community_logos/python-logo-generic.svg\">\n",
    "</center>\n",
    "\n",
    "\n",
    "`Python` es un lenguaje de programación de alto nivel, interpretado, orientado a objetos y de propósito general. Fue creado en la década de 1990 por Guido van Rossum y se ha convertido en uno de los lenguajes de programación más populares del mundo.\n",
    "\n",
    "`Python` es conocido por su sintaxis clara y legible, lo que lo hace muy fácil de aprender para los principiantes en programación. Además, es altamente modular y escalable, lo que lo convierte en una excelente opción para proyectos de cualquier tamaño y complejidad.\n",
    "\n",
    "`Python` es utilizado en una variedad de aplicaciones, desde la creación de páginas web hasta el análisis de datos y el aprendizaje automático. Es también utilizado en el desarrollo de juegos, aplicaciones móviles, sistemas embebidos y mucho más."
   ]
  },
  {
   "cell_type": "markdown",
   "metadata": {},
   "source": [
    "## Breve Repaso\n",
    "### Operaciones matematicas\n",
    "\n",
    "\n",
    "\n",
    "| Operators | Operation         | Example         |\n",
    "| --------- | ----------------- | --------------- |\n",
    "| \\*\\*      | Exponente          | `2 ** 3 = 8`    |\n",
    "| %         | Modulo | `22 % 8 = 6`    |\n",
    "| //        | Integer division  | `22 // 8 = 2`   |\n",
    "| /         | Division          | `22 / 8 = 2.75` |\n",
    "| \\*        | Multiplicación    | `3 * 3 = 9`     |\n",
    "| -         | Resta       | `5 - 2 = 3`     |\n",
    "| +         | Suma          | `2 + 2 = 4`     |\n",
    "\n",
    "Ejemplos:\n",
    "\n",
    "```python\n",
    ">>> 2 + 3 * 6\n",
    "# 20\n",
    "\n",
    ">>> (2 + 3) * 6\n",
    "# 30\n",
    "\n",
    ">>> 2 ** 8\n",
    "#256\n",
    "\n",
    ">>> 23 // 7\n",
    "# 3\n",
    "\n",
    ">>> 23 % 7\n",
    "# 2\n",
    "\n",
    ">>> (5 - 1) * ((7 + 1) / (3 - 1))\n",
    "# 16.0\n",
    "```\n",
    "\n",
    "## Operadores de asignación aumentada\n",
    "\n",
    "| Operator   | Equivalent      |\n",
    "| ---------- | --------------- |\n",
    "| `var += 1` | `var = var + 1` |\n",
    "| `var -= 1` | `var = var - 1` |\n",
    "| `var *= 1` | `var = var * 1` |\n",
    "| `var /= 1` | `var = var / 1` |\n",
    "| `var %= 1` | `var = var % 1` |\n",
    "\n",
    "Ejemplos:\n",
    "\n",
    "```python\n",
    ">>> greeting = 'Hello'\n",
    ">>> greeting += ' world!'\n",
    ">>> greeting\n",
    "# 'Hello world!'\n",
    "\n",
    ">>> number = 1\n",
    ">>> number += 1\n",
    ">>> number\n",
    "# 2\n",
    "\n",
    ">>> my_list = ['item']\n",
    ">>> my_list *= 3\n",
    ">>> my_list\n",
    "# ['item', 'item', 'item']\n",
    "```\n",
    "\n",
    "## Tipos de Datos \n",
    "\n",
    "| Data Type              | Examples                                  |\n",
    "| ---------------------- | ----------------------------------------- |\n",
    "| Integers               | `-2, -1, 0, 1, 2, 3, 4, 5`                |\n",
    "| Floating-point numbers | `-1.25, -1.0, --0.5, 0.0, 0.5, 1.0, 1.25` |\n",
    "| Strings                | `'a', 'aa', 'aaa', 'Hello!', '11 cats'`   |\n",
    "\n",
    "## Concatenación y Repliación\n",
    "\n",
    "Concatenación de String :\n",
    "\n",
    "```python\n",
    ">>> 'Alice' 'Bob'\n",
    "# 'AliceBob'\n",
    "```\n",
    "\n",
    "Replicación de Strings :\n",
    "\n",
    "```python\n",
    ">>> 'Alice' * 5\n",
    "# 'AliceAliceAliceAliceAlice'\n",
    "```\n",
    "\n",
    "## Variables\n",
    "\n",
    "Puede nombrar  una variable de cualquier forma siempre que cumpla las siguientes reglas:\n",
    "\n",
    "1. Puede ser solo una palabra\n",
    "\n",
    "```python\n",
    ">>> # bad\n",
    ">>> my variable = 'Hello'\n",
    "\n",
    ">>> # good\n",
    ">>> var = 'Hello'\n",
    "```\n",
    "\n",
    "2. Solo puede usar letras, numeros y guión bajo (`_`) .\n",
    "\n",
    "```python\n",
    ">>> # bad\n",
    ">>> %$@variable = 'Hello'\n",
    "\n",
    ">>> # good\n",
    ">>> my_var = 'Hello'\n",
    "\n",
    ">>> # good\n",
    ">>> my_var_2 = 'Hello'\n",
    "```\n",
    "\n",
    "3. No pueden comenzar con un número\n",
    "\n",
    "```python\n",
    ">>> # this wont work\n",
    ">>> 23_var = 'hello'\n",
    "```\n",
    "\n",
    "\n",
    "\n",
    "## Comentarios\n",
    "\n",
    "Inline comment:\n",
    "\n",
    "```python\n",
    "# This is a comment\n",
    "```\n",
    "\n",
    "Multiline comment:\n",
    "\n",
    "```python\n",
    "# This is a\n",
    "# multiline comment\n",
    "```\n",
    "\n",
    "Code with a comment:\n",
    "\n",
    "```python\n",
    "a = 1  # initialization\n",
    "```\n",
    "\n",
    "Notar los dos espacios antes del comentario.\n",
    "\n",
    "Documentación de las funciones\n",
    "\n",
    "```python\n",
    "def foo():\n",
    "    \"\"\"\n",
    "    This is a function docstring\n",
    "    You can also use:\n",
    "    ''' Function Docstring '''\n",
    "    \"\"\"\n",
    "```\n",
    "\n",
    "# Funciones \n",
    "\n",
    "## La función `print()`\n",
    "\n",
    "\n",
    "\n",
    "```python\n",
    ">>> print('Hello world!')\n",
    "# Hello world!\n",
    "\n",
    ">>> a = 1\n",
    ">>> print('Hello world!', a)\n",
    "# Hello world! 1\n",
    "```\n",
    "\n",
    "### La palabra clave `end`\n",
    "\n",
    "\n",
    "```python\n",
    "phrase = ['impreso', 'con', 'un', 'dash', 'en', 'medio']\n",
    ">>> for word in phrase:\n",
    "...     print(word, end='-')\n",
    "...\n",
    "# impreso-con-un-dash-en-medio-\n",
    "```\n",
    "\n",
    "### La palabra clave `sep`\n",
    "\n",
    "\n",
    "```python\n",
    "print('cats', 'dogs', 'mice', sep=',')\n",
    "# cats,dogs,mice\n",
    "```\n",
    "\n"
   ]
  },
  {
   "cell_type": "markdown",
   "metadata": {},
   "source": [
    "\n",
    "## The len() Function\n",
    "\n",
    "\n",
    "```python\n",
    ">>> len('hello')\n",
    "# 5\n",
    "\n",
    ">>> len(['cat', 3, 'dog'])\n",
    "# 3\n",
    "```\n",
    "\n",
    "## Las funciones `str()`, `int()`, y `float()`\n",
    "\n",
    "\n",
    "\n",
    "```python\n",
    ">>> str(29)\n",
    "# '29'\n",
    "\n",
    ">>> str(-3.14)\n",
    "# '-3.14'\n",
    "```\n",
    "\n",
    "O de una `string` a un `integer` o `float`:\n",
    "\n",
    "```python\n",
    ">>> int('11')\n",
    "# 11\n",
    "\n",
    ">>> float('3.14')\n",
    "# 3.14\n",
    "```\n"
   ]
  },
  {
   "cell_type": "markdown",
   "metadata": {},
   "source": [
    "## La función `input()`"
   ]
  },
  {
   "cell_type": "code",
   "execution_count": null,
   "metadata": {},
   "outputs": [],
   "source": [
    "print('What is your name?')"
   ]
  },
  {
   "cell_type": "code",
   "execution_count": null,
   "metadata": {},
   "outputs": [],
   "source": [
    "my_name = #completar"
   ]
  },
  {
   "cell_type": "markdown",
   "metadata": {},
   "source": [
    "## Funciones propias\n",
    "\n",
    "\n",
    "\n",
    "Una de las fortalezas de `Python` es que podemos crear funciones. En realidad, muchas de las funciones de `Python` son funciones de funciones.\n",
    "\n",
    "Las funciones se inician con la sentencia `def` y siguen la siguiente estructura básica:\n",
    "\n",
    "```python\n",
    "def nombre_funcion(parametro1, parametro2, ...):\n",
    "    \"\"\"\n",
    "    Descripción de lo que hace la función\n",
    "\n",
    "    Parameters:\n",
    "        parametro1 (clase_parametro1): Descripción del primer parámetro. \n",
    "        parametro2 (clase_parametro2): Descripción del segundo parámetro.\n",
    "\n",
    "    Returns:\n",
    "        output1 (clase_output): Descripción de lo que es el producto y qué valores puede tomar.\n",
    "    \"\"\"\n",
    "\n",
    "    # Bloque de código\n",
    "    \n",
    "    return(resultado)\n",
    "```"
   ]
  },
  {
   "cell_type": "markdown",
   "metadata": {},
   "source": [
    "Por ejemplo, una función que suma dos números `a` y `b` la definimos de la siguiente manera:"
   ]
  },
  {
   "cell_type": "code",
   "execution_count": null,
   "metadata": {},
   "outputs": [],
   "source": [
    "def suma_dos_numeros(a, b):\n",
    "    #completar\n",
    "\n",
    "    return(resultado)"
   ]
  },
  {
   "cell_type": "code",
   "execution_count": null,
   "metadata": {},
   "outputs": [],
   "source": [
    "suma_dos_numeros(2, 3)"
   ]
  },
  {
   "cell_type": "markdown",
   "metadata": {},
   "source": [
    "Es importante documentar adecuadamente una función para que sea útil a otros usuarios. Así, otros usuarios interesados podrán acceder a la documentación de la función por medio del signo de interrogación (`?`). "
   ]
  },
  {
   "cell_type": "markdown",
   "metadata": {},
   "source": [
    "# Introducción a Pandas\n",
    "\n",
    "`Pandas` es quizas la librería más famosa de `Python` para la manipulación de bases de datos. En Pandas existen tres tipos de estructuras: \n",
    "\n",
    "- Series: data en un arreglo 1D, etiquetada, homogénea e inmutable de tamaño.\n",
    "- Data Frames: arreglo 2D, tamaño mutable, columnas heterogéneas, etiquetadas.\n",
    "- Panel: arreglo 3D, tamaño mutable.\n",
    "\n",
    "Para corroborar si `Pandas` está instalada escribimos `!pip show pandas`. Si la librería está instalada debería retornar un mensaje similar al que se ve a continuación."
   ]
  },
  {
   "cell_type": "code",
   "execution_count": null,
   "metadata": {},
   "outputs": [],
   "source": [
    "!pip show pandas"
   ]
  },
  {
   "cell_type": "markdown",
   "metadata": {},
   "source": [
    "En caso contrario es necesario instalarla con el comando `!pip install pandas`. El comando `pip` permite instalar cualquier libreria.\n",
    "\n",
    "Una vez instalada es necesario llamar la libreria `Pandas` usando el comando `import`. Opcionalmente podemos declarar una abreviación para `Pandas`, la forma más usada es `pd`."
   ]
  },
  {
   "cell_type": "code",
   "execution_count": null,
   "metadata": {},
   "outputs": [],
   "source": [
    "import pandas as pd"
   ]
  },
  {
   "cell_type": "markdown",
   "metadata": {},
   "source": [
    "## Creación de Data Frames "
   ]
  },
  {
   "cell_type": "markdown",
   "metadata": {},
   "source": [
    "`Dataframe` es una de las estructuras mas utilizadas en analisis de datos. Para ilustrar como generar y operar sobre estos, partamos de 4 listas:"
   ]
  },
  {
   "cell_type": "code",
   "execution_count": null,
   "metadata": {},
   "outputs": [],
   "source": [
    "nombres = ['Lucas', 'Juliana', 'Juan', 'Carla']\n",
    "sexo = ['M', 'F', 'M', None]\n",
    "edad = [23, 21, 25, 30]\n",
    "notas = [4.5, 2, 3.25, 4]"
   ]
  },
  {
   "cell_type": "raw",
   "metadata": {},
   "source": [
    "Luego creamos un diccionario:"
   ]
  },
  {
   "cell_type": "code",
   "execution_count": null,
   "metadata": {},
   "outputs": [],
   "source": [
    "diccionario = {'names': nombres, 'sex': sexo, 'age': edad, 'grades': notas}\n",
    "diccionario"
   ]
  },
  {
   "cell_type": "markdown",
   "metadata": {},
   "source": [
    "Finalmente un `dataframe` con la función `DataFrame`:"
   ]
  },
  {
   "cell_type": "code",
   "execution_count": null,
   "metadata": {},
   "outputs": [],
   "source": [
    "data = pd.DataFrame(diccionario)\n",
    "data"
   ]
  },
  {
   "cell_type": "markdown",
   "metadata": {},
   "source": [
    " Este objeto tiene atributos a ,los que podemos acceder de la siguiente forma: el nombre de nuestra base, un punto (.), y el nombre del atributo que queremos visitar, es decir, `dataframe.atributo`. \n",
    "\n",
    "Los principales atributos de un `dataframe` son los siguientes:"
   ]
  },
  {
   "cell_type": "markdown",
   "metadata": {},
   "source": [
    "\n",
    "- _info()_. Información básica del `dataframe`: número de observaciones, columnas, clases de cada columna, y cuántos valores completos tiene.\n"
   ]
  },
  {
   "cell_type": "code",
   "execution_count": null,
   "metadata": {},
   "outputs": [],
   "source": [
    "data.info()"
   ]
  },
  {
   "cell_type": "markdown",
   "metadata": {},
   "source": [
    "- _index_. El índice es un identificador de las filas. Generalmente se numeran las filas de  0 a n - 1, sin embargo se pueden cambiar los índices para que sean una palabra o una sequencia de números, lo importante es que no se repitan los índices ."
   ]
  },
  {
   "cell_type": "code",
   "execution_count": null,
   "metadata": {},
   "outputs": [],
   "source": [
    "data.index "
   ]
  },
  {
   "cell_type": "markdown",
   "metadata": {},
   "source": [
    "- _columns_. Nombre de las columnas."
   ]
  },
  {
   "cell_type": "code",
   "execution_count": null,
   "metadata": {},
   "outputs": [],
   "source": [
    "data.columns "
   ]
  },
  {
   "cell_type": "markdown",
   "metadata": {},
   "source": [
    "- _shape_. Dimensiones del `dataframe` (filas, columnas)."
   ]
  },
  {
   "cell_type": "code",
   "execution_count": null,
   "metadata": {},
   "outputs": [],
   "source": [
    "data.shape"
   ]
  },
  {
   "cell_type": "markdown",
   "metadata": {},
   "source": [
    "- _size_. Cantidad de datos (retorna el número total de elementos: el producto del número de filas por columnas)."
   ]
  },
  {
   "cell_type": "code",
   "execution_count": null,
   "metadata": {},
   "outputs": [],
   "source": [
    "data.size "
   ]
  },
  {
   "cell_type": "markdown",
   "metadata": {},
   "source": [
    "- _count_. Cantidad de datos **no** nulos."
   ]
  },
  {
   "cell_type": "code",
   "execution_count": null,
   "metadata": {},
   "outputs": [],
   "source": [
    "data.count"
   ]
  },
  {
   "cell_type": "markdown",
   "metadata": {},
   "source": [
    "- _values_. Valores en el `dataframe`."
   ]
  },
  {
   "cell_type": "code",
   "execution_count": null,
   "metadata": {},
   "outputs": [],
   "source": [
    "data.values"
   ]
  },
  {
   "cell_type": "markdown",
   "metadata": {},
   "source": [
    "- _T_. Trasponer. Notemos que los índices del `dataframe` son los nombres de las columnas del `dataframe` sin trasponer."
   ]
  },
  {
   "cell_type": "code",
   "execution_count": null,
   "metadata": {},
   "outputs": [],
   "source": [
    "data.T "
   ]
  },
  {
   "cell_type": "markdown",
   "metadata": {},
   "source": [
    "- _dtypes_. Tipos de cada variable."
   ]
  },
  {
   "cell_type": "code",
   "execution_count": null,
   "metadata": {},
   "outputs": [],
   "source": [
    "data.dtypes"
   ]
  },
  {
   "cell_type": "markdown",
   "metadata": {},
   "source": [
    "### Filtrar datos \n",
    "\n",
    "Existen diferentes métodos para filtrar `dataframes`.\n",
    "\n",
    "Para filtrar utilizando el nombre que identifica a la fila o a la columna usamos  `.loc`.\n",
    "\n",
    "Por ejemplo:"
   ]
  },
  {
   "cell_type": "markdown",
   "metadata": {},
   "source": [
    "- Extraer la columna `names`."
   ]
  },
  {
   "cell_type": "code",
   "execution_count": null,
   "metadata": {},
   "outputs": [],
   "source": [
    "# completar "
   ]
  },
  {
   "cell_type": "markdown",
   "metadata": {},
   "source": [
    "- Extraer las columnas `names` y `sex`."
   ]
  },
  {
   "cell_type": "code",
   "execution_count": null,
   "metadata": {},
   "outputs": [],
   "source": [
    "# completar "
   ]
  },
  {
   "cell_type": "markdown",
   "metadata": {},
   "source": [
    "- Extraer columnas unicamente, obviando el comando `loc` y usando corchetes."
   ]
  },
  {
   "cell_type": "code",
   "execution_count": null,
   "metadata": {},
   "outputs": [],
   "source": [
    "# completar "
   ]
  },
  {
   "cell_type": "markdown",
   "metadata": {},
   "source": [
    "Del mismo modo, para acceder a una columna y el nombre de esta no tiene espacios ni caracteres especiales, podemos acceder utilizando el comando `nombre_base.nombre_columna`."
   ]
  },
  {
   "cell_type": "code",
   "execution_count": null,
   "metadata": {},
   "outputs": [],
   "source": [
    "# completar "
   ]
  },
  {
   "cell_type": "markdown",
   "metadata": {},
   "source": [
    "Para acceder a la posición de la fila o la columna, usamos el método `iloc`. Es importante recordar que `Python` denota la primera posición con 0.\n",
    "\n",
    "Por ejemplo:\n"
   ]
  },
  {
   "cell_type": "markdown",
   "metadata": {},
   "source": [
    "- Extraer el primer elemento."
   ]
  },
  {
   "cell_type": "code",
   "execution_count": null,
   "metadata": {},
   "outputs": [],
   "source": [
    "# completar "
   ]
  },
  {
   "cell_type": "markdown",
   "metadata": {},
   "source": [
    "- Extraer la tercera y cuarta fila del `dataframe`."
   ]
  },
  {
   "cell_type": "code",
   "execution_count": null,
   "metadata": {},
   "outputs": [],
   "source": [
    "# completar "
   ]
  },
  {
   "cell_type": "markdown",
   "metadata": {},
   "source": [
    "El comando `.loc` permite filtrar la base utilizando condicionales. Por ejemplo, para filtrar los individuos con `sex` igual a `F` podemos utilizar un condicional para marcar las filas: en donde hay un `F` con `True` y  donde no lo hay con `False`.\n"
   ]
  },
  {
   "cell_type": "code",
   "execution_count": null,
   "metadata": {},
   "outputs": [],
   "source": [
    "# completar "
   ]
  },
  {
   "cell_type": "code",
   "execution_count": null,
   "metadata": {},
   "outputs": [],
   "source": [
    "# completar "
   ]
  },
  {
   "cell_type": "markdown",
   "metadata": {},
   "source": [
    "### Crear una columna\n",
    "\n",
    "Para crear una nueva columna hacemos lo siguiente:\n",
    "`nombre_base['nombre_columna'] = contenido_columna`."
   ]
  },
  {
   "cell_type": "code",
   "execution_count": null,
   "metadata": {},
   "outputs": [],
   "source": [
    "# completar 5"
   ]
  },
  {
   "cell_type": "markdown",
   "metadata": {},
   "source": [
    "##  Estadísticas Descriptivas"
   ]
  },
  {
   "cell_type": "markdown",
   "metadata": {},
   "source": [
    "Para describir los datos de un `dataframe` se pueden utilizar distintas funciones contenidas en `Pandas`.\n",
    "\n",
    "Algunos ejemplos son:"
   ]
  },
  {
   "cell_type": "markdown",
   "metadata": {},
   "source": [
    "- _describe()_. Muestra estadísticas descriptivas básicas de las variables numéricas."
   ]
  },
  {
   "cell_type": "code",
   "execution_count": null,
   "metadata": {},
   "outputs": [],
   "source": [
    "data.describe() "
   ]
  },
  {
   "cell_type": "markdown",
   "metadata": {},
   "source": [
    "- _sum()_. Suma."
   ]
  },
  {
   "cell_type": "code",
   "execution_count": null,
   "metadata": {},
   "outputs": [],
   "source": [
    "data.sum()"
   ]
  },
  {
   "cell_type": "markdown",
   "metadata": {},
   "source": [
    "- _min()_. Mínimo."
   ]
  },
  {
   "cell_type": "code",
   "execution_count": null,
   "metadata": {},
   "outputs": [],
   "source": [
    "data.min()"
   ]
  },
  {
   "cell_type": "markdown",
   "metadata": {},
   "source": [
    "- _max()_. Máximo."
   ]
  },
  {
   "cell_type": "code",
   "execution_count": null,
   "metadata": {},
   "outputs": [],
   "source": [
    "data.max()"
   ]
  },
  {
   "cell_type": "markdown",
   "metadata": {},
   "source": [
    "- _idxmin()_. Índice de la posición del valor mínimo."
   ]
  },
  {
   "cell_type": "code",
   "execution_count": null,
   "metadata": {},
   "outputs": [],
   "source": [
    "data.age.idxmin()"
   ]
  },
  {
   "cell_type": "markdown",
   "metadata": {},
   "source": [
    "- _idxmax()_. Índice de la posición del valor máximo."
   ]
  },
  {
   "cell_type": "code",
   "execution_count": null,
   "metadata": {},
   "outputs": [],
   "source": [
    "data.grades.idxmax()"
   ]
  },
  {
   "cell_type": "markdown",
   "metadata": {},
   "source": [
    "- _mean()_. Media."
   ]
  },
  {
   "cell_type": "code",
   "execution_count": null,
   "metadata": {},
   "outputs": [],
   "source": [
    "data.mean()"
   ]
  },
  {
   "cell_type": "markdown",
   "metadata": {},
   "source": [
    "- _median()_. Mediana."
   ]
  },
  {
   "cell_type": "code",
   "execution_count": null,
   "metadata": {},
   "outputs": [],
   "source": [
    "data.median()"
   ]
  },
  {
   "cell_type": "markdown",
   "metadata": {},
   "source": [
    "## Importar datos\n"
   ]
  },
  {
   "cell_type": "markdown",
   "metadata": {},
   "source": [
    "Para cargar un archivo en formato csv usamos la función `pd.read_csv()`:"
   ]
  },
  {
   "cell_type": "code",
   "execution_count": null,
   "metadata": {},
   "outputs": [],
   "source": [
    "accidentes = pd.read_csv('https://github.com/ignaciomsarmiento/RecomSystemsLectures/blob/main/L01_Intro_Sistemas_Recomendac/Parte2/Data/info_accidentes.csv?raw=true')\n",
    "accidentes.head()"
   ]
  },
  {
   "cell_type": "markdown",
   "metadata": {},
   "source": [
    "La función `pd.read_csv` puede tomar multiples argumentos que ayudan en la lectura de los archivos. Para conocer estos argumentos y sus detalles utilizamos la función `ayuda` denotada por el signo de interrogación `?`."
   ]
  },
  {
   "cell_type": "code",
   "execution_count": null,
   "metadata": {},
   "outputs": [],
   "source": [
    "?pd.read_csv"
   ]
  },
  {
   "cell_type": "markdown",
   "metadata": {},
   "source": [
    "Para cargar un archivo de Excel usamos la función `pd.read_excel()`"
   ]
  },
  {
   "cell_type": "code",
   "execution_count": null,
   "metadata": {},
   "outputs": [],
   "source": [
    "accidentes2 = pd.read_excel('https://github.com/ignaciomsarmiento/RecomSystemsLectures/blob/main/L01_Intro_Sistemas_Recomendac/Parte2/Data/info_accidentes.xlsx?raw=true')\n",
    "accidentes2.info()"
   ]
  },
  {
   "cell_type": "markdown",
   "metadata": {},
   "source": [
    "# Recomendadores basados en conocimiento\n",
    "\n",
    "Los recomendadores basados en  conocimiento utilizan principalmente artículos que rara vez se usan o compran. Si los artículos son raramente comprados es muy difícil tener información previa a partir de la cuál de ellos se puede generar una recomendación. La venta de bienes raíces es un ejemplo de esto. La compra de una casa suele ser a menudo una compra de una vez en la vida, no se tiene por lo tanto información adicional para generar recomendaciones.\n",
    "\n",
    "En casos como este, el sistema de recomendación funciona similar a lo que haría un ser humano. Le pregunta al usuario sobre preferencias y detalles; y a partir de estos, genera recomendaciones. Volviendo al ejemplo anterior, el sistema podría preguntar sobre qué tipo de propiedad prefiere, qué barrios, cuál es su presupuesto, etc.; y a partir de estos ofrecer una recomendación."
   ]
  },
  {
   "cell_type": "markdown",
   "metadata": {},
   "source": [
    "## Primera aproximación en `Python`\n",
    "\n",
    "\n",
    "En este *cuaderno*, obtuvimos una visión general del mundo de los sistemas de recomendación y un resumen de  distintos tipos de recomendadores. Sin embargo, antes de terminarlo implementaremos dos sistemas de recomendación: uno simple y otro basado en conocimiento. Estos ilustrarán de manera sencilla como funcionan los sistemas en la práctica y nos permitirán tener una mejor base para cuando busquemos aboradar sistemas más complejos en *cuadernos* futuros. \n",
    "\n",
    "###  Implementaciones en  `Python`\n",
    "\n",
    "Para ilustrar el funcionamiento de estos recomendadores simples vamos a utilizar una versión simplificada y traducida de la base de datos de películas: [MovieLens](https://grouplens.org/datasets/movielens/latest/) provista abiertamente por [grouplens](https://grouplens.org/about/what-is-grouplens/) para: **\"avanzar la teoría y la práctica de la computación social mediante la construcción y la comprensión de sistemas *(de recomendación)* utilizados por personas reales\".**\n",
    "\n",
    "Carguemos entonces las librerías y los datos:\n"
   ]
  },
  {
   "cell_type": "code",
   "execution_count": null,
   "metadata": {},
   "outputs": [],
   "source": [
    "# Cargamos las librerías a utilizar\n",
    "import pandas as pd\n",
    "import numpy as np\n",
    "\n",
    "# Cargamos y visualizamos las primeras filas de los datos\n",
    "#completar"
   ]
  },
  {
   "cell_type": "markdown",
   "metadata": {},
   "source": [
    "La base contiene el título, la duración (en minutos), el voto promedio y el número de votos que obtuvo, el año de estreno, y el género. Note que si una película tiene más de un género aparece repetida. Por ejemplo, Toy Story, aparece bajo el género de animación y de comedia.\n",
    "\n",
    "Para esta aplicación omitiremos el género y por lo tanto nos quedaremos con sólo una entrada por película (los invito a que prueben si los resultados cambian o no al no omitir las entradas repetidas):"
   ]
  },
  {
   "cell_type": "code",
   "execution_count": null,
   "metadata": {},
   "outputs": [],
   "source": [
    "#Completar"
   ]
  },
  {
   "cell_type": "markdown",
   "metadata": {},
   "source": [
    "La columna `voto_promedio` es el promedio de votos que dieron los usuarios a la película. Este voto toma valores  entre 1 y 10, siendo 10 el voto más alto. La columna `numero_votos` es el número de votos que recibió la película. Este sirve también como una proxy de cuanta gente vió la película.\n",
    "\n",
    "Estamos ahora en condiciones de construir nuestro primer recomendador simple."
   ]
  },
  {
   "cell_type": "markdown",
   "metadata": {},
   "source": [
    "#### Un recomendador simple \n",
    "\n",
    "Para construir nuestro primer recomendador simple vamos a seguir los siguientes pasos: \n",
    "\n",
    "   1. Decidir cuáles son los atributos deseados de la película que queremos recomendar. Esto nos va a permitir reducir el espacio de candidatos potenciales.\n",
    "   2. Elegir una métrica que nos permita calificar y rankear las películas y calcularla para nuestro subconjunto.\n",
    "   3. Recomendar películas basadas en esta métrica en orden decreciente de sus puntajes.\n",
    "\n",
    "\n",
    "La parte crucial de este recomendador es el segundo punto. Generar una métrica que nos permita ordenar las películas. La elección de esta es arbitraria, sin embargo es deseable que esta métrica sea robusta. Por ejemplo, podríamos usar el voto promedio. Sin embargo, sabemos que la media no es una medida robusta. Para illustrarlo, imaginemos que tenemos una película con calificación promedio de 9 por 100.000 usuarios, esta se colocará debajo de una película con una calificación promedio de 9,5 por 100 usuarios. Esto no es deseable, ya que es muy probable que una película vista y calificada sólo por 100 personas atienda a un nicho muy específico y puede que no atraiga tanto al individuo promedio como la primera. Otra de las desventajas de la media es que no es robusta a la micronumerosidad, es decir, que tenga pocos votos. A medida que el número de votos aumente, es probable que este se acerque al verdadero valor poblacional. Es decir, una película calificada con 10/10 por cinco usuarios no significa necesariamente que sea una buena película.\n",
    "\n",
    "Por lo tanto, necesitamos una métrica que pueda sobreponerse a estas falencias, de forma tal que, por ejemplo, rankee una película de gran éxito con una calificación de 8 por 100.000 usuarios sobre una película con una calificación de 9 por 100 usuarios.\n",
    "\n",
    "En este *cuaderno* vamos a utilizar la métrica propuesta por [IMDB](https://www.imdb.com/chart/top/?ref_=nv_mv_250) para rankear las mejores 250 películas. Esta métrica sigue la siguiente fórmula:\n",
    "\n",
    "$$\n",
    "Score = \\left( \\frac{v}{v+m}\\times R + \\frac{v}{v+m}\\times C \\right)\n",
    "$$\n",
    "\n",
    "\n",
    "donde: \n",
    "\n",
    "   - $v$ es el número de votos.\n",
    "   - $m$ es el mínimo número de votos que tiene que haber recibido una pelicula para que figure en el ranking.\n",
    "   - $R$ es el voto promedio de la película\n",
    "   - $C$ es el voto promedio de *todas* la peliculas en la base.\n",
    "    \n",
    "##### Creando el recomendador\n",
    "\n",
    "Tenemos entonces todos los ingredientes para crear nuestro recomendador. Comencemos calculando el $Score$. Notemos que tiene como parámetro $m$. En nuestra aplicación lo fijaremos en el percentil 95 (los invito a que lo cambien y prueben cómo cambian las recomendaciones). \n",
    "\n",
    "Calculamos entonces el parámetro $m$:"
   ]
  },
  {
   "cell_type": "code",
   "execution_count": null,
   "metadata": {},
   "outputs": [],
   "source": [
    "#completar"
   ]
  },
  {
   "cell_type": "markdown",
   "metadata": {},
   "source": [
    "Con esto podemos ver  cuáles son las que superaron el mínimo número de votos que tiene que haber recibido una película para que figure en el ranking:"
   ]
  },
  {
   "cell_type": "code",
   "execution_count": null,
   "metadata": {},
   "outputs": [],
   "source": [
    "#completar"
   ]
  },
  {
   "cell_type": "markdown",
   "metadata": {},
   "source": [
    "Vemos que nos quedamos con aproximadamente el 10%, como esperábamos. Calculemos  $C$, la calificación promedio de todas las películas en el conjunto de datos:"
   ]
  },
  {
   "cell_type": "code",
   "execution_count": null,
   "metadata": {},
   "outputs": [],
   "source": [
    "#completar"
   ]
  },
  {
   "cell_type": "markdown",
   "metadata": {},
   "source": [
    "Con esto podemos calcular entonces nuestro $Score$ para cada película. Para ello crearemos una función:"
   ]
  },
  {
   "cell_type": "code",
   "execution_count": null,
   "metadata": {},
   "outputs": [],
   "source": [
    "#completar"
   ]
  },
  {
   "cell_type": "markdown",
   "metadata": {},
   "source": [
    "Y aplicaremos la función, indicando que la operación es por filas (`axis=1`): "
   ]
  },
  {
   "cell_type": "code",
   "execution_count": null,
   "metadata": {},
   "outputs": [],
   "source": [
    "#completar"
   ]
  },
  {
   "cell_type": "markdown",
   "metadata": {},
   "source": [
    "El último paso para recomendar las películas es ordenarlas y mostrarlas al usuario:\n"
   ]
  },
  {
   "cell_type": "code",
   "execution_count": null,
   "metadata": {},
   "outputs": [],
   "source": [
    "#completar"
   ]
  },
  {
   "cell_type": "markdown",
   "metadata": {},
   "source": [
    "Notemos que nuestra recomendaciónseñala el mismo top 3 que IMDB (*$^*$imagen tomada el 28 de Abril de 2022)*:"
   ]
  },
  {
   "cell_type": "code",
   "execution_count": 1,
   "metadata": {},
   "outputs": [],
   "source": [
    "#<div  style=\"max-width: 60%;\">\n",
    "#<img src = \"figs/IMDB.png\"/>\n",
    "#</div>\n"
   ]
  },
  {
   "cell_type": "markdown",
   "metadata": {},
   "source": [
    "### Un  recomendador basado en conocimiento "
   ]
  },
  {
   "cell_type": "markdown",
   "metadata": {},
   "source": [
    "Construyamos entonces ahora un recomendador que incorpore preferencias de los usuarios. Para ello seguimos utilizando la bsase anterior y lo que el recomendadro hará es:\n",
    "\n",
    "1. Preguntar al usuario por el género de película que está buscando.\n",
    "2. Preguntar al usuario por la duración.\n",
    "3. Preguntar al usuario por el rango de año de estreno de la película.\n",
    "4. Con esta información recomendará la película con el $Score$ más alto."
   ]
  },
  {
   "cell_type": "markdown",
   "metadata": {},
   "source": [
    "Veamos entonces cuáles son los géneros disponibles:"
   ]
  },
  {
   "cell_type": "code",
   "execution_count": null,
   "metadata": {},
   "outputs": [],
   "source": [
    "#completar"
   ]
  },
  {
   "cell_type": "markdown",
   "metadata": {},
   "source": [
    "y los años disponibles:"
   ]
  },
  {
   "cell_type": "code",
   "execution_count": null,
   "metadata": {},
   "outputs": [],
   "source": [
    "#completar"
   ]
  },
  {
   "cell_type": "markdown",
   "metadata": {},
   "source": [
    "Construyamos entonces una función que nos pregunte por nuestras preferencias y que nos genere las recomendaciones. En otras palabras, estos son los tres pasos principales de la función:\n",
    "\n",
    "   1. Obtener información del usuario sobre sus preferencias.\n",
    "   2. Filtrar las películas que coincidan con las condiciones establecidas por el usuario.\n",
    "   3. Calcular los valores de m y C.\n",
    "   4. Retornar las sugerencias.\n",
    "\n",
    "Llamaremos a la función `recomendador` y tendrá 2 parámetros: la base de datos sobre la que construye la recomendaciones y el percentil ($m$). Utilizaremos por ahora el mismo $m=.95$ del ejemplo anterior:"
   ]
  },
  {
   "cell_type": "code",
   "execution_count": null,
   "metadata": {},
   "outputs": [],
   "source": [
    "#completar"
   ]
  },
  {
   "cell_type": "markdown",
   "metadata": {},
   "source": [
    "Utilicemos entonces esta función para generar recomendaciones de películas de drama de entre media y 2 horas de duración que fueron estrenadas entre 1990 y 2005:"
   ]
  },
  {
   "cell_type": "code",
   "execution_count": null,
   "metadata": {},
   "outputs": [],
   "source": [
    "#completar"
   ]
  },
  {
   "cell_type": "markdown",
   "metadata": {},
   "source": [
    "Vemos que las películas retornadas por la función satisfacen todas las condiciones que ingresamos. Notemos también que dado que usamos la métrica definida por IMDB, las sugerencias son películas con altos votos promedio y también con muchos votos (películas populares). Note también que estas recomendaciones incluyen *American History X*, que es una de mis películas favoritas. Por mi parte, estaría muy satisfecho con estas sugerencias."
   ]
  },
  {
   "cell_type": "markdown",
   "metadata": {},
   "source": [
    "# Referencias\n",
    "\n",
    "- Banik, R. (2018). Hands-on recommendation systems with Python: start building powerful and personalized, recommendation engines with Python. Packt Publishing Ltd.\n",
    "\n",
    "- Covington, P., Adams, J., & Sargin, E. (2016). Deep Neural Networks for YouTube recommendations. Proceedings of the 10th ACM Conference on Recommender Systems. https://doi.org/10.1145/2959100.2959190 \n",
    "\n",
    "- Google developers. (n.d.). Recommendation systems. Google. Consultado en Abril 3, 2022, de https://developers.google.com/machine-learning/recommendation/overview "
   ]
  }
 ],
 "metadata": {
  "interpreter": {
   "hash": "fe36d3cf18f454bb22b210d1ce52ae8c21a1b2f0a9257a143474ae90bef14b60"
  },
  "kernelspec": {
   "display_name": "Python 3 (ipykernel)",
   "language": "python",
   "name": "python3"
  },
  "language_info": {
   "codemirror_mode": {
    "name": "ipython",
    "version": 3
   },
   "file_extension": ".py",
   "mimetype": "text/x-python",
   "name": "python",
   "nbconvert_exporter": "python",
   "pygments_lexer": "ipython3",
   "version": "3.9.13"
  },
  "toc": {
   "base_numbering": 1,
   "nav_menu": {},
   "number_sections": true,
   "sideBar": true,
   "skip_h1_title": false,
   "title_cell": "Table of Contents",
   "title_sidebar": "Contents",
   "toc_cell": false,
   "toc_position": {},
   "toc_section_display": true,
   "toc_window_display": true
  }
 },
 "nbformat": 4,
 "nbformat_minor": 2
}
