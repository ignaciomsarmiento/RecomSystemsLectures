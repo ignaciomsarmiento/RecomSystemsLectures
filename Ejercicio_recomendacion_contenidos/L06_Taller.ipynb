{
 "cells": [
  {
   "cell_type": "markdown",
   "id": "80da1ab4",
   "metadata": {},
   "source": [
    "<div >\n",
    "<img src = \"../banner.png\" />\n",
    "</div>"
   ]
  },
  {
   "cell_type": "markdown",
   "id": "d000c404",
   "metadata": {},
   "source": [
    "# Caso-taller:  Recomendando el Blog de  Hernán Casciari \n",
    "\n",
    "\n",
    "[Hernán Casciari](https://hernancasciari.com/#bio), es un escritor argentino, que escribe blog posts con cuentos e historias  relacionadas con el futbol, su vida, infancia, y relaciones familiares con toques de ficción. Este [blog](https://hernancasciari.com/blog/) es  tan interesantes que en 2005 fue premiado como “El mejor blog del mundo” por Deutsche Welle de Alemania. \n",
    "\n",
    "El objetivo de este caso-taller es construir un sistema de recomendación basado en los contenidos de los posts."
   ]
  },
  {
   "cell_type": "markdown",
   "id": "af82ae84",
   "metadata": {},
   "source": [
    "## Desarrollo\n"
   ]
  },
  {
   "cell_type": "markdown",
   "id": "6d8895db",
   "metadata": {},
   "source": [
    "### 1.Carga de datos \n",
    "\n",
    "En los `Archivos de Laboratorio` en la carpeta `data` se encuentran el archivo posts con el título, la fecha de publicación, y el contenido de posts de sr. Casciari. Cargue estos datos en su *cuaderno*\n",
    "   "
   ]
  },
  {
   "cell_type": "code",
   "execution_count": 9,
   "id": "5b6e988e",
   "metadata": {},
   "outputs": [
    {
     "data": {
      "text/html": [
       "<div>\n",
       "<style scoped>\n",
       "    .dataframe tbody tr th:only-of-type {\n",
       "        vertical-align: middle;\n",
       "    }\n",
       "\n",
       "    .dataframe tbody tr th {\n",
       "        vertical-align: top;\n",
       "    }\n",
       "\n",
       "    .dataframe thead th {\n",
       "        text-align: right;\n",
       "    }\n",
       "</style>\n",
       "<table border=\"1\" class=\"dataframe\">\n",
       "  <thead>\n",
       "    <tr style=\"text-align: right;\">\n",
       "      <th></th>\n",
       "      <th>titulo</th>\n",
       "      <th>fecha</th>\n",
       "      <th>cuento</th>\n",
       "    </tr>\n",
       "  </thead>\n",
       "  <tbody>\n",
       "    <tr>\n",
       "      <th>0</th>\n",
       "      <td>El viejo folletÃ­n y las nuevas tecnologÃ­as</td>\n",
       "      <td>27 febrero, 2004</td>\n",
       "      <td>Ayer di por finalizado un experimento anÃ³nimo...</td>\n",
       "    </tr>\n",
       "    <tr>\n",
       "      <th>1</th>\n",
       "      <td>Literatura infantil</td>\n",
       "      <td>28 febrero, 2004</td>\n",
       "      <td>A los doce aÃ±os yo pensaba en la muerte con l...</td>\n",
       "    </tr>\n",
       "    <tr>\n",
       "      <th>2</th>\n",
       "      <td>Buenos Aires</td>\n",
       "      <td>1 marzo, 2004</td>\n",
       "      <td>Cuando terminaba de trabajar me volvÃ­a a casa...</td>\n",
       "    </tr>\n",
       "    <tr>\n",
       "      <th>3</th>\n",
       "      <td>Mis conflictos con la ciencia</td>\n",
       "      <td>4 marzo, 2004</td>\n",
       "      <td>Las noticias mÃ¡s importantes nunca aparecen e...</td>\n",
       "    </tr>\n",
       "    <tr>\n",
       "      <th>4</th>\n",
       "      <td>CÃ³mo se combate la madurez</td>\n",
       "      <td>6 marzo, 2004</td>\n",
       "      <td>Durante el dÃ­a me asaltan infinidad de pregun...</td>\n",
       "    </tr>\n",
       "    <tr>\n",
       "      <th>...</th>\n",
       "      <td>...</td>\n",
       "      <td>...</td>\n",
       "      <td>...</td>\n",
       "    </tr>\n",
       "    <tr>\n",
       "      <th>176</th>\n",
       "      <td>La rana hervida en la olla</td>\n",
       "      <td>13 octubre, 2015</td>\n",
       "      <td>Estoy en un Simposio de gente muy culta, en MÃ...</td>\n",
       "    </tr>\n",
       "    <tr>\n",
       "      <th>177</th>\n",
       "      <td>Petit Alzheimer</td>\n",
       "      <td>20 octubre, 2015</td>\n",
       "      <td>Esto empieza con unos versos. No hablo de este...</td>\n",
       "    </tr>\n",
       "    <tr>\n",
       "      <th>178</th>\n",
       "      <td>Lo que salvamos del incendio</td>\n",
       "      <td>27 octubre, 2015</td>\n",
       "      <td>Hay un test de treinta y seis preguntas que se...</td>\n",
       "    </tr>\n",
       "    <tr>\n",
       "      <th>179</th>\n",
       "      <td>Pajaritos en jaula gigante</td>\n",
       "      <td>10 noviembre, 2015</td>\n",
       "      <td>Mi pueblo natal se llama Mercedes, estÃ¡ en un...</td>\n",
       "    </tr>\n",
       "    <tr>\n",
       "      <th>180</th>\n",
       "      <td>La venganza del metegol</td>\n",
       "      <td>17 noviembre, 2015</td>\n",
       "      <td>El mes pasado me invitaron a presentar un libr...</td>\n",
       "    </tr>\n",
       "  </tbody>\n",
       "</table>\n",
       "<p>181 rows × 3 columns</p>\n",
       "</div>"
      ],
      "text/plain": [
       "                                           titulo               fecha  \\\n",
       "0    El viejo folletÃ­n y las nuevas tecnologÃ­as    27 febrero, 2004   \n",
       "1                             Literatura infantil    28 febrero, 2004   \n",
       "2                                    Buenos Aires       1 marzo, 2004   \n",
       "3                   Mis conflictos con la ciencia       4 marzo, 2004   \n",
       "4                     CÃ³mo se combate la madurez       6 marzo, 2004   \n",
       "..                                            ...                 ...   \n",
       "176                    La rana hervida en la olla    13 octubre, 2015   \n",
       "177                               Petit Alzheimer    20 octubre, 2015   \n",
       "178                  Lo que salvamos del incendio    27 octubre, 2015   \n",
       "179                    Pajaritos en jaula gigante  10 noviembre, 2015   \n",
       "180                       La venganza del metegol  17 noviembre, 2015   \n",
       "\n",
       "                                                cuento  \n",
       "0    Ayer di por finalizado un experimento anÃ³nimo...  \n",
       "1    A los doce aÃ±os yo pensaba en la muerte con l...  \n",
       "2    Cuando terminaba de trabajar me volvÃ­a a casa...  \n",
       "3    Las noticias mÃ¡s importantes nunca aparecen e...  \n",
       "4    Durante el dÃ­a me asaltan infinidad de pregun...  \n",
       "..                                                 ...  \n",
       "176  Estoy en un Simposio de gente muy culta, en MÃ...  \n",
       "177  Esto empieza con unos versos. No hablo de este...  \n",
       "178  Hay un test de treinta y seis preguntas que se...  \n",
       "179  Mi pueblo natal se llama Mercedes, estÃ¡ en un...  \n",
       "180  El mes pasado me invitaron a presentar un libr...  \n",
       "\n",
       "[181 rows x 3 columns]"
      ]
     },
     "execution_count": 9,
     "metadata": {},
     "output_type": "execute_result"
    }
   ],
   "source": [
    "import pandas as pd\n",
    "df = pd.read_csv('https://raw.githubusercontent.com/ignaciomsarmiento/RecomSystemsLectures/main/Ejercicio_recomendacion_contenidos/data/posts.csv', sep=',', encoding='latin-1')\n",
    "df"
   ]
  },
  {
   "cell_type": "markdown",
   "id": "d8bd1e20",
   "metadata": {},
   "source": [
    "### 2. Análisis exploratorio de los datos. \n",
    "\n",
    "En esta sección exploraremos los posts.\n",
    "\n",
    "#### 2.1 Limpie y homogenice  el texto de los posts, sin eliminar las *stopwords* ni lematizar. Explique paso  a paso su procedimiento ilustrando con una de las entradas del blog. Sea explicito si remueve alguna palabra en especial."
   ]
  },
  {
   "cell_type": "code",
   "execution_count": 4,
   "id": "307660cb",
   "metadata": {},
   "outputs": [],
   "source": [
    "# Utilice este espacio para escribir el código."
   ]
  },
  {
   "cell_type": "markdown",
   "id": "7778b269",
   "metadata": {},
   "source": [
    "(Utilice este espacio para describir el procedimiento, análisis, y conclusiones)"
   ]
  },
  {
   "cell_type": "markdown",
   "id": "54130ffc",
   "metadata": {},
   "source": [
    "#### 2.2 ¿Cuáles son las palabras más utilizadas por año? Presente sus resultados usando una nube de palabras por año."
   ]
  },
  {
   "cell_type": "code",
   "execution_count": 5,
   "id": "638f3860",
   "metadata": {},
   "outputs": [],
   "source": [
    "# Utilice este espacio para escribir el código."
   ]
  },
  {
   "cell_type": "markdown",
   "id": "b462dead",
   "metadata": {},
   "source": [
    "(Utilice este espacio para describir el procedimiento, análisis, y conclusiones)"
   ]
  },
  {
   "cell_type": "markdown",
   "id": "aec1c1f9",
   "metadata": {},
   "source": [
    "#### 2.3 ¿Cómo cambia la composición de las palabras más utilizadas por año si remueve las *stopwords* y lematiza? Presente sus resultados usando una nube de palabras por año. Explique de donde salen las *stopwords* que utilizó y si decidió ampliarlas. Note que el escritor es argentino  por lo tanto habrán palabras particulares de este país."
   ]
  },
  {
   "cell_type": "code",
   "execution_count": 6,
   "id": "ca2c17cd",
   "metadata": {},
   "outputs": [],
   "source": [
    "# Utilice este espacio para escribir el código."
   ]
  },
  {
   "cell_type": "markdown",
   "id": "23589c0d",
   "metadata": {},
   "source": [
    "(Utilice este espacio para describir el procedimiento, análisis y conclusiones)"
   ]
  },
  {
   "cell_type": "markdown",
   "id": "e5c640b3",
   "metadata": {},
   "source": [
    "#### 2.4 Obtenga una tabla y/o gráfica que muestre el total de posts por año, el promedio de palabras por post, el total de palabras utilizadas y el total de palabras únicas."
   ]
  },
  {
   "cell_type": "code",
   "execution_count": 7,
   "id": "7b46ba82",
   "metadata": {},
   "outputs": [],
   "source": [
    "# Utilice este espacio para escribir el código."
   ]
  },
  {
   "cell_type": "markdown",
   "id": "ba78bece",
   "metadata": {},
   "source": [
    "(Utilice este espacio para describir el procedimiento, análisis, y conclusiones)"
   ]
  },
  {
   "cell_type": "markdown",
   "id": "149f8ca6",
   "metadata": {},
   "source": [
    "### 3. Generando Recomendaciones\n",
    "\n",
    "En esta sección nos interesa generar recomendaciones, para ello va a elegir una entrada de la base que le pareció interesante y generar recomendaciones para ella utilizando distintos procedimientos"
   ]
  },
  {
   "cell_type": "markdown",
   "id": "c0d42cf2",
   "metadata": {},
   "source": [
    "#### 3.1. Basados en similitud  utilizando CountVectorizer"
   ]
  },
  {
   "cell_type": "markdown",
   "id": "28feb6fc",
   "metadata": {
    "id": "yjsuqTEKhhpF"
   },
   "source": [
    "Genere una función recomendadora basado en la distancia de coseno donde el texto este vactorizado por `CountVectorizer`. Muestre y describa las 10 entradas más recomendadas."
   ]
  },
  {
   "cell_type": "code",
   "execution_count": 8,
   "id": "8ce83d35",
   "metadata": {},
   "outputs": [],
   "source": [
    "# Utilice este espacio para escribir el código."
   ]
  },
  {
   "cell_type": "markdown",
   "id": "d34f210e",
   "metadata": {},
   "source": [
    "(Utilice este espacio para describir el procedimiento, análisis, y conclusiones)"
   ]
  },
  {
   "cell_type": "markdown",
   "id": "784f1bb3",
   "metadata": {},
   "source": [
    "#### 3.2.  Basados en similitud  utilizando TF-IDFVectorizer"
   ]
  },
  {
   "cell_type": "markdown",
   "id": "fdc0aea2",
   "metadata": {},
   "source": [
    "Genere una función recomendadora basado en la distancia de coseno donde el texto este vectorizado  por `TF-IDFVectorizer`. Muestre y describa las 10 entradas más recomendadas. Compare con los resultados encontrados anteriormente y explique sus similitudes y/o diferencias."
   ]
  },
  {
   "cell_type": "code",
   "execution_count": 9,
   "id": "4571f7d7",
   "metadata": {},
   "outputs": [],
   "source": [
    "# Utilice este espacio para escribir el código."
   ]
  },
  {
   "cell_type": "markdown",
   "id": "731c3e1b",
   "metadata": {},
   "source": [
    "(Utilice este espacio para describir el procedimiento, análisis y conclusiones)"
   ]
  },
  {
   "cell_type": "markdown",
   "id": "d14c8928",
   "metadata": {},
   "source": [
    "Encuentre los tópicos subyacentes en los posts. Comience con 3 tópicos, el sr. Casciari suele hablar mucho  sobre \"Jugar/Niñez\", \"Fútbol\" y el \"Futuro\". Vea si encuentra estos tópicos subyacentes. Para ello genere una visualización de los tópicos y analice cuáles son las palabras más frecuentes dentro de cada uno de ellos."
   ]
  },
  {
   "cell_type": "code",
   "execution_count": 10,
   "id": "f8a814af",
   "metadata": {},
   "outputs": [],
   "source": [
    "# Utilice este espacio para escribir el código."
   ]
  },
  {
   "cell_type": "markdown",
   "id": "1ea7bb03",
   "metadata": {},
   "source": [
    "(Utilice este espacio para describir el procedimiento, análisis, y conclusiones)"
   ]
  },
  {
   "cell_type": "markdown",
   "id": "5febbdb7",
   "metadata": {},
   "source": [
    "Asigne cada entrada a uno de estos tres tópicos y genere recomendaciones restringidas al tópico al que pertenece la entrada que eligió.  Compare con los resultados encontrados anteriormente y explique sus similitudes y/o diferencias."
   ]
  },
  {
   "cell_type": "code",
   "execution_count": 11,
   "id": "793f9081",
   "metadata": {},
   "outputs": [],
   "source": [
    "# Utilice este espacio para escribir el código."
   ]
  },
  {
   "cell_type": "markdown",
   "id": "ec081d64",
   "metadata": {},
   "source": [
    "(Utilice este espacio para describir el procedimiento, análisis, y conclusiones)"
   ]
  },
  {
   "cell_type": "markdown",
   "id": "0a1d2f91",
   "metadata": {},
   "source": [
    "Refine el número de tópicos usando la medida de coherencia. Explique brevemente en que consiste y cuántos tópicos encontró."
   ]
  },
  {
   "cell_type": "code",
   "execution_count": 12,
   "id": "5715b63e",
   "metadata": {},
   "outputs": [],
   "source": [
    "# Utilice este espacio para escribir el código."
   ]
  },
  {
   "cell_type": "markdown",
   "id": "52b1f6f8",
   "metadata": {},
   "source": [
    "Asigne cada entrada a estos nuevos tópicos y genere recomendaciones restringidas al tópico al que pertenece la entrada que eligió.  Compare con los resultados encontrados anteriormente y explique sus similitudes y/o diferencias."
   ]
  },
  {
   "cell_type": "markdown",
   "id": "a893517e",
   "metadata": {},
   "source": [
    "### 4. Recomendaciones generales"
   ]
  },
  {
   "cell_type": "markdown",
   "id": "b25263e9",
   "metadata": {},
   "source": [
    "De acuerdo con los resultados encontrados, en su opinión ¿qué procedimiento generó las mejores recomendaciones para la entrada elegida? ¿Cómo implementaría una evaluación objetiva de estas recomendaciones? Justifique su respuesta."
   ]
  },
  {
   "cell_type": "code",
   "execution_count": 13,
   "id": "0441a47e",
   "metadata": {},
   "outputs": [],
   "source": [
    "# Utilice este espacio para escribir el código."
   ]
  },
  {
   "cell_type": "markdown",
   "id": "fa41219a",
   "metadata": {},
   "source": [
    "(Utilice este espacio para describir el procedimiento, análisis, y conclusiones)"
   ]
  }
 ],
 "metadata": {
  "kernelspec": {
   "display_name": "Python 3",
   "language": "python",
   "name": "python3"
  },
  "language_info": {
   "codemirror_mode": {
    "name": "ipython",
    "version": 3
   },
   "file_extension": ".py",
   "mimetype": "text/x-python",
   "name": "python",
   "nbconvert_exporter": "python",
   "pygments_lexer": "ipython3",
   "version": "3.9.4"
  },
  "toc": {
   "base_numbering": 1,
   "nav_menu": {},
   "number_sections": true,
   "sideBar": true,
   "skip_h1_title": false,
   "title_cell": "Table of Contents",
   "title_sidebar": "Contents",
   "toc_cell": false,
   "toc_position": {},
   "toc_section_display": true,
   "toc_window_display": true
  }
 },
 "nbformat": 4,
 "nbformat_minor": 5
}
